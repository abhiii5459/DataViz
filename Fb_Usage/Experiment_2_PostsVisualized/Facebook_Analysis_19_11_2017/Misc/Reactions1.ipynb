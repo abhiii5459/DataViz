{
 "cells": [
  {
   "cell_type": "code",
   "execution_count": 1,
   "metadata": {
    "collapsed": false
   },
   "outputs": [
    {
     "name": "stdout",
     "output_type": "stream",
     "text": [
      "Hello\n"
     ]
    }
   ],
   "source": [
    "print(\"Hello\")"
   ]
  },
  {
   "cell_type": "code",
   "execution_count": 2,
   "metadata": {
    "collapsed": true
   },
   "outputs": [],
   "source": [
    "import requests"
   ]
  },
  {
   "cell_type": "code",
   "execution_count": 35,
   "metadata": {
    "collapsed": false
   },
   "outputs": [],
   "source": [
    "facebook_val = requests.get(\"https://graph.facebook.com/v2.7/10152460834423273_10156397828618273/reactions?limit=600&__paging_token=enc_AdC0e5dvKoSQmXJylWG9ZCB2HOcqrn0h8aKiZAXhZAWwspwXXGbMQrctxddQsukemXMFmPC1MVhZCLW74QdPJf5Xeo7M&since=1510280679&access_token=EAACEdEose0cBACyiuxUe4SdZBwW6ZAbbKQOU6j12PCIZBf4LcGf15VZBmBzY7kUtYXGdj8PSa8CP44G49ZCoS0E5fqURfB0hZCwKwAS1ZBZBjeIhYssiOOpOT8uDJAe2XHMUl0IwoDD5xl1ZBEkAUW0xNIcUCC2mmZAyl1obonSKAZCl2wqFiKf97qhlFIZCBmqhyAsZD\")"
   ]
  },
  {
   "cell_type": "code",
   "execution_count": 7,
   "metadata": {
    "collapsed": false
   },
   "outputs": [
    {
     "data": {
      "text/plain": [
       "b'{\"data\":[{\"id\":\"10204154429759155\",\"name\":\"Sneha Lakshmisha\",\"type\":\"LIKE\"},{\"id\":\"10152700865845934\",\"name\":\"Archana Rajagopal\",\"type\":\"LOVE\"},{\"id\":\"723000277784417\",\"name\":\"Varshasri Ps\",\"type\":\"HAHA\"},{\"id\":\"10152901089085278\",\"name\":\"Parimal Bajpai\",\"type\":\"LIKE\"},{\"id\":\"668905966531726\",\"name\":\"Nikhil Sreenivasa Murthy\",\"type\":\"HAHA\"},{\"id\":\"10154082385754003\",\"name\":\"Deepesh Rawat\",\"type\":\"HAHA\"},{\"id\":\"10152166159885978\",\"name\":\"Gayathri Sitaraman\",\"type\":\"LIKE\"},{\"id\":\"10203837180836981\",\"name\":\"Preeti Sharma\",\"type\":\"LIKE\"},{\"id\":\"847983785212262\",\"name\":\"Pavan Melukote\",\"type\":\"HAHA\"},{\"id\":\"10153044304748291\",\"name\":\"Bharadwaj K Bardi\",\"type\":\"LIKE\"},{\"id\":\"850634678281191\",\"name\":\"Venkatesan Thiyagarajan\",\"type\":\"LIKE\"},{\"id\":\"903600886337436\",\"name\":\"Mohan Nayaka\",\"type\":\"HAHA\"},{\"id\":\"10207111677764973\",\"name\":\"Naveen Ravindran\",\"type\":\"HAHA\"},{\"id\":\"10152138719744285\",\"name\":\"Raghavendrra Mahesh\",\"type\":\"LIKE\"},{\"id\":\"10152381371195967\",\"name\":\"Kanika Mendiratta\",\"type\":\"HAHA\"},{\"id\":\"842092172515949\",\"name\":\"Ghanshyam Patil\",\"type\":\"LIKE\"},{\"id\":\"785262124819290\",\"name\":\"Srijani Datta\",\"type\":\"LOVE\"},{\"id\":\"10154731315200717\",\"name\":\"Apoorva Srinivas\",\"type\":\"HAHA\"},{\"id\":\"649004285186368\",\"name\":\"Mohit Tater\",\"type\":\"LIKE\"},{\"id\":\"1052420836\",\"name\":\"Umesh Rao\",\"type\":\"HAHA\"},{\"id\":\"10203952875599187\",\"name\":\"Prasnabachi Sahu\",\"type\":\"HAHA\"},{\"id\":\"10203326233507755\",\"name\":\"Naga Teja\",\"type\":\"LIKE\"},{\"id\":\"662065773847058\",\"name\":\"Neha Tripathi\",\"type\":\"LIKE\"},{\"id\":\"10155541632320204\",\"name\":\"Vasudha Pande\",\"type\":\"SAD\"},{\"id\":\"640731139352296\",\"name\":\"Vinod Baba\",\"type\":\"LIKE\"},{\"id\":\"102288893440452\",\"name\":\"Tamanna MN\",\"type\":\"HAHA\"},{\"id\":\"597073077075911\",\"name\":\"Sindhu Shandilya\",\"type\":\"HAHA\"},{\"id\":\"681105631\",\"name\":\"Vignesh Prabhu\",\"type\":\"LIKE\"},{\"id\":\"10201904045881587\",\"name\":\"Archana Revi\",\"type\":\"LIKE\"},{\"id\":\"744909828883593\",\"name\":\"Navneet Singh Patel\",\"type\":\"LIKE\"},{\"id\":\"10202825496511675\",\"name\":\"PS Pranika\",\"type\":\"LIKE\"},{\"id\":\"394588260682536\",\"name\":\"Pratyush Arya\",\"type\":\"SAD\"},{\"id\":\"825791794136673\",\"name\":\"Manas J Saloi\",\"type\":\"LIKE\"},{\"id\":\"939381762746547\",\"name\":\"Akshata Tare\",\"type\":\"HAHA\"},{\"id\":\"826098267403490\",\"name\":\"Pratik Das\",\"type\":\"LIKE\"},{\"id\":\"10201704176481014\",\"name\":\"Shewali Tiwari\",\"type\":\"LIKE\"},{\"id\":\"1281634006\",\"name\":\"Vinay Shenoy\",\"type\":\"LIKE\"},{\"id\":\"10202218239209614\",\"name\":\"Ritesh S Rao\",\"type\":\"HAHA\"},{\"id\":\"877543675607472\",\"name\":\"Uma Srikumar\",\"type\":\"LIKE\"},{\"id\":\"635292933203711\",\"name\":\"Sara Iyer\",\"type\":\"LIKE\"},{\"id\":\"733038273457410\",\"name\":\"Dheeraj Santosh Kollipara\",\"type\":\"HAHA\"},{\"id\":\"893265307377765\",\"name\":\"Svetha Hariharan\",\"type\":\"HAHA\"},{\"id\":\"335153633339701\",\"name\":\"Shri Vaishali Venkatesan\",\"type\":\"HAHA\"},{\"id\":\"797209887012754\",\"name\":\"Niharika Banerjee\",\"type\":\"LIKE\"},{\"id\":\"10209079494936981\",\"name\":\"Praveen Hegde\",\"type\":\"LIKE\"},{\"id\":\"1161236553893081\",\"name\":\"Vasuda Sabesan\",\"type\":\"LIKE\"},{\"id\":\"1452820818303008\",\"name\":\"Harish Balasubramanian\",\"type\":\"HAHA\"},{\"id\":\"10152442268584241\",\"name\":\"Swathi Rajaram\",\"type\":\"LIKE\"},{\"id\":\"793469270714261\",\"name\":\"Sunil Mariraj\",\"type\":\"HAHA\"},{\"id\":\"10152087424266377\",\"name\":\"Pavan Jayaprakash\",\"type\":\"LIKE\"},{\"id\":\"10203034513956848\",\"name\":\"Indushree Mohan\",\"type\":\"LIKE\"},{\"id\":\"902101606510897\",\"name\":\"Madhuri Parthasarathy\",\"type\":\"LIKE\"},{\"id\":\"837590369593870\",\"name\":\"Bindu Madhav\",\"type\":\"HAHA\"},{\"id\":\"10202001936798029\",\"name\":\"Nivedita Cholayil\",\"type\":\"LIKE\"},{\"id\":\"10201365728463537\",\"name\":\"Sameer Mohan\",\"type\":\"HAHA\"},{\"id\":\"1206906749\",\"name\":\"Adith Shenoy\",\"type\":\"HAHA\"},{\"id\":\"10212823416893758\",\"name\":\"Suraksha Shetty\",\"type\":\"LIKE\"},{\"id\":\"10152561127746039\",\"name\":\"Karthik Keramalu\",\"type\":\"HAHA\"},{\"id\":\"214859072211119\",\"name\":\"Nikita Garg\",\"type\":\"HAHA\"},{\"id\":\"751771691537657\",\"name\":\"Mark Vailshery\",\"type\":\"LIKE\"},{\"id\":\"548150925293532\",\"name\":\"Anubha Upadhya M\",\"type\":\"LIKE\"},{\"id\":\"886226548151002\",\"name\":\"Srikanth Vasishta\",\"type\":\"LIKE\"},{\"id\":\"10203345939425890\",\"name\":\"Gokul S Nath\",\"type\":\"LIKE\"},{\"id\":\"1077236175661596\",\"name\":\"Aishwarya Ramakrishnan\",\"type\":\"HAHA\"},{\"id\":\"4572255762046\",\"name\":\"MadKing Santhosh Guru\",\"type\":\"HAHA\"},{\"id\":\"957549464302585\",\"name\":\"Venkataramanan Venkateswaran\",\"type\":\"HAHA\"},{\"id\":\"10152545185703413\",\"name\":\"Anil Gandhi\",\"type\":\"LIKE\"},{\"id\":\"10153318386754018\",\"name\":\"Arjun Bharadwaj\",\"type\":\"HAHA\"},{\"id\":\"803821696329481\",\"name\":\"Shruthi Jothsana\",\"type\":\"HAHA\"},{\"id\":\"812261942165878\",\"name\":\"Sandeep Ojha\",\"type\":\"LIKE\"},{\"id\":\"808910399119693\",\"name\":\"Subhendu Ghosh\",\"type\":\"HAHA\"}],\"paging\":{\"cursors\":{\"before\":\"TVRFM09EUXpNekEzTURveE5URXhNVEExTXpNeE9qSTFOREE1TmpFMk1UTT0ZD\",\"after\":\"TVRBd01EQXdNREl5TWpJeE9UUTFPakUxTVRFd056TXlPVFE2TnpnNE5qUTRNRE0zT1RFek16RXkZD\"}}}'"
      ]
     },
     "execution_count": 7,
     "metadata": {},
     "output_type": "execute_result"
    }
   ],
   "source": [
    "facebook_val.content"
   ]
  },
  {
   "cell_type": "code",
   "execution_count": 9,
   "metadata": {
    "collapsed": false
   },
   "outputs": [
    {
     "data": {
      "text/plain": [
       "bytes"
      ]
     },
     "execution_count": 9,
     "metadata": {},
     "output_type": "execute_result"
    }
   ],
   "source": [
    "type(facebook_val.content)"
   ]
  },
  {
   "cell_type": "code",
   "execution_count": 36,
   "metadata": {
    "collapsed": false
   },
   "outputs": [
    {
     "data": {
      "text/plain": [
       "{'data': [{'id': '10204154429759155',\n",
       "   'name': 'Sneha Lakshmisha',\n",
       "   'type': 'LIKE'},\n",
       "  {'id': '10152700865845934', 'name': 'Archana Rajagopal', 'type': 'LOVE'},\n",
       "  {'id': '723000277784417', 'name': 'Varshasri Ps', 'type': 'HAHA'},\n",
       "  {'id': '10152901089085278', 'name': 'Parimal Bajpai', 'type': 'LIKE'},\n",
       "  {'id': '668905966531726',\n",
       "   'name': 'Nikhil Sreenivasa Murthy',\n",
       "   'type': 'HAHA'},\n",
       "  {'id': '10154082385754003', 'name': 'Deepesh Rawat', 'type': 'HAHA'},\n",
       "  {'id': '10152166159885978', 'name': 'Gayathri Sitaraman', 'type': 'LIKE'},\n",
       "  {'id': '10203837180836981', 'name': 'Preeti Sharma', 'type': 'LIKE'},\n",
       "  {'id': '847983785212262', 'name': 'Pavan Melukote', 'type': 'HAHA'},\n",
       "  {'id': '10153044304748291', 'name': 'Bharadwaj K Bardi', 'type': 'LIKE'},\n",
       "  {'id': '850634678281191', 'name': 'Venkatesan Thiyagarajan', 'type': 'LIKE'},\n",
       "  {'id': '903600886337436', 'name': 'Mohan Nayaka', 'type': 'HAHA'},\n",
       "  {'id': '10207111677764973', 'name': 'Naveen Ravindran', 'type': 'HAHA'},\n",
       "  {'id': '10152138719744285', 'name': 'Raghavendrra Mahesh', 'type': 'LIKE'},\n",
       "  {'id': '10152381371195967', 'name': 'Kanika Mendiratta', 'type': 'HAHA'},\n",
       "  {'id': '842092172515949', 'name': 'Ghanshyam Patil', 'type': 'LIKE'},\n",
       "  {'id': '785262124819290', 'name': 'Srijani Datta', 'type': 'LOVE'},\n",
       "  {'id': '10154731315200717', 'name': 'Apoorva Srinivas', 'type': 'HAHA'},\n",
       "  {'id': '649004285186368', 'name': 'Mohit Tater', 'type': 'LIKE'},\n",
       "  {'id': '1052420836', 'name': 'Umesh Rao', 'type': 'HAHA'},\n",
       "  {'id': '10203952875599187', 'name': 'Prasnabachi Sahu', 'type': 'HAHA'},\n",
       "  {'id': '10203326233507755', 'name': 'Naga Teja', 'type': 'LIKE'},\n",
       "  {'id': '662065773847058', 'name': 'Neha Tripathi', 'type': 'LIKE'},\n",
       "  {'id': '10155541632320204', 'name': 'Vasudha Pande', 'type': 'SAD'},\n",
       "  {'id': '640731139352296', 'name': 'Vinod Baba', 'type': 'LIKE'},\n",
       "  {'id': '102288893440452', 'name': 'Tamanna MN', 'type': 'HAHA'},\n",
       "  {'id': '597073077075911', 'name': 'Sindhu Shandilya', 'type': 'HAHA'},\n",
       "  {'id': '681105631', 'name': 'Vignesh Prabhu', 'type': 'LIKE'},\n",
       "  {'id': '10201904045881587', 'name': 'Archana Revi', 'type': 'LIKE'},\n",
       "  {'id': '744909828883593', 'name': 'Navneet Singh Patel', 'type': 'LIKE'},\n",
       "  {'id': '10202825496511675', 'name': 'PS Pranika', 'type': 'LIKE'},\n",
       "  {'id': '394588260682536', 'name': 'Pratyush Arya', 'type': 'SAD'},\n",
       "  {'id': '825791794136673', 'name': 'Manas J Saloi', 'type': 'LIKE'},\n",
       "  {'id': '939381762746547', 'name': 'Akshata Tare', 'type': 'HAHA'},\n",
       "  {'id': '826098267403490', 'name': 'Pratik Das', 'type': 'LIKE'},\n",
       "  {'id': '10201704176481014', 'name': 'Shewali Tiwari', 'type': 'LIKE'},\n",
       "  {'id': '1281634006', 'name': 'Vinay Shenoy', 'type': 'LIKE'},\n",
       "  {'id': '10202218239209614', 'name': 'Ritesh S Rao', 'type': 'HAHA'},\n",
       "  {'id': '877543675607472', 'name': 'Uma Srikumar', 'type': 'LIKE'},\n",
       "  {'id': '635292933203711', 'name': 'Sara Iyer', 'type': 'LIKE'},\n",
       "  {'id': '733038273457410',\n",
       "   'name': 'Dheeraj Santosh Kollipara',\n",
       "   'type': 'HAHA'},\n",
       "  {'id': '893265307377765', 'name': 'Svetha Hariharan', 'type': 'HAHA'},\n",
       "  {'id': '335153633339701',\n",
       "   'name': 'Shri Vaishali Venkatesan',\n",
       "   'type': 'HAHA'},\n",
       "  {'id': '797209887012754', 'name': 'Niharika Banerjee', 'type': 'LIKE'},\n",
       "  {'id': '10209079494936981', 'name': 'Praveen Hegde', 'type': 'LIKE'},\n",
       "  {'id': '1161236553893081', 'name': 'Vasuda Sabesan', 'type': 'LIKE'},\n",
       "  {'id': '1452820818303008', 'name': 'Harish Balasubramanian', 'type': 'HAHA'},\n",
       "  {'id': '10152442268584241', 'name': 'Swathi Rajaram', 'type': 'LIKE'},\n",
       "  {'id': '793469270714261', 'name': 'Sunil Mariraj', 'type': 'HAHA'},\n",
       "  {'id': '10152087424266377', 'name': 'Pavan Jayaprakash', 'type': 'LIKE'},\n",
       "  {'id': '10203034513956848', 'name': 'Indushree Mohan', 'type': 'LIKE'},\n",
       "  {'id': '902101606510897', 'name': 'Madhuri Parthasarathy', 'type': 'LIKE'},\n",
       "  {'id': '837590369593870', 'name': 'Bindu Madhav', 'type': 'HAHA'},\n",
       "  {'id': '10202001936798029', 'name': 'Nivedita Cholayil', 'type': 'LIKE'},\n",
       "  {'id': '10201365728463537', 'name': 'Sameer Mohan', 'type': 'HAHA'},\n",
       "  {'id': '1206906749', 'name': 'Adith Shenoy', 'type': 'HAHA'},\n",
       "  {'id': '10212823416893758', 'name': 'Suraksha Shetty', 'type': 'LIKE'},\n",
       "  {'id': '10152561127746039', 'name': 'Karthik Keramalu', 'type': 'HAHA'},\n",
       "  {'id': '214859072211119', 'name': 'Nikita Garg', 'type': 'HAHA'},\n",
       "  {'id': '751771691537657', 'name': 'Mark Vailshery', 'type': 'LIKE'},\n",
       "  {'id': '548150925293532', 'name': 'Anubha Upadhya M', 'type': 'LIKE'},\n",
       "  {'id': '886226548151002', 'name': 'Srikanth Vasishta', 'type': 'LIKE'},\n",
       "  {'id': '10203345939425890', 'name': 'Gokul S Nath', 'type': 'LIKE'},\n",
       "  {'id': '1077236175661596', 'name': 'Aishwarya Ramakrishnan', 'type': 'HAHA'},\n",
       "  {'id': '4572255762046', 'name': 'MadKing Santhosh Guru', 'type': 'HAHA'},\n",
       "  {'id': '957549464302585',\n",
       "   'name': 'Venkataramanan Venkateswaran',\n",
       "   'type': 'HAHA'},\n",
       "  {'id': '10152545185703413', 'name': 'Anil Gandhi', 'type': 'LIKE'},\n",
       "  {'id': '10153318386754018', 'name': 'Arjun Bharadwaj', 'type': 'HAHA'},\n",
       "  {'id': '803821696329481', 'name': 'Shruthi Jothsana', 'type': 'HAHA'},\n",
       "  {'id': '812261942165878', 'name': 'Sandeep Ojha', 'type': 'LIKE'},\n",
       "  {'id': '808910399119693', 'name': 'Subhendu Ghosh', 'type': 'HAHA'}],\n",
       " 'paging': {'cursors': {'after': 'TVRBd01EQXdNREl5TWpJeE9UUTFPakUxTVRFd056TXlPVFE2TnpnNE5qUTRNRE0zT1RFek16RXkZD',\n",
       "   'before': 'TVRFM09EUXpNekEzTURveE5URXhNVEExTXpNeE9qSTFOREE1TmpFMk1UTT0ZD'}}}"
      ]
     },
     "execution_count": 36,
     "metadata": {},
     "output_type": "execute_result"
    }
   ],
   "source": [
    "facebook_val.json()"
   ]
  },
  {
   "cell_type": "code",
   "execution_count": 17,
   "metadata": {
    "collapsed": false
   },
   "outputs": [
    {
     "data": {
      "text/plain": [
       "dict"
      ]
     },
     "execution_count": 17,
     "metadata": {},
     "output_type": "execute_result"
    }
   ],
   "source": [
    "type(facebook_val.json())"
   ]
  },
  {
   "cell_type": "code",
   "execution_count": 32,
   "metadata": {
    "collapsed": false
   },
   "outputs": [],
   "source": [
    "reactions = {}"
   ]
  },
  {
   "cell_type": "code",
   "execution_count": 33,
   "metadata": {
    "collapsed": true
   },
   "outputs": [],
   "source": [
    "for i in facebook_val.json()['data']:\n",
    "    reactions[i['name']]=i['type']\n"
   ]
  },
  {
   "cell_type": "code",
   "execution_count": 34,
   "metadata": {
    "collapsed": false
   },
   "outputs": [
    {
     "data": {
      "text/plain": [
       "{'Adith Shenoy': 'HAHA',\n",
       " 'Aishwarya Ramakrishnan': 'HAHA',\n",
       " 'Akshata Tare': 'HAHA',\n",
       " 'Anil Gandhi': 'LIKE',\n",
       " 'Anubha Upadhya M': 'LIKE',\n",
       " 'Apoorva Srinivas': 'HAHA',\n",
       " 'Archana Rajagopal': 'LOVE',\n",
       " 'Archana Revi': 'LIKE',\n",
       " 'Arjun Bharadwaj': 'HAHA',\n",
       " 'Bharadwaj K Bardi': 'LIKE',\n",
       " 'Bindu Madhav': 'HAHA',\n",
       " 'Deepesh Rawat': 'HAHA',\n",
       " 'Dheeraj Santosh Kollipara': 'HAHA',\n",
       " 'Gayathri Sitaraman': 'LIKE',\n",
       " 'Ghanshyam Patil': 'LIKE',\n",
       " 'Gokul S Nath': 'LIKE',\n",
       " 'Harish Balasubramanian': 'HAHA',\n",
       " 'Indushree Mohan': 'LIKE',\n",
       " 'Kanika Mendiratta': 'HAHA',\n",
       " 'Karthik Keramalu': 'HAHA',\n",
       " 'MadKing Santhosh Guru': 'HAHA',\n",
       " 'Madhuri Parthasarathy': 'LIKE',\n",
       " 'Manas J Saloi': 'LIKE',\n",
       " 'Mark Vailshery': 'LIKE',\n",
       " 'Mohan Nayaka': 'HAHA',\n",
       " 'Mohit Tater': 'LIKE',\n",
       " 'Naga Teja': 'LIKE',\n",
       " 'Naveen Ravindran': 'HAHA',\n",
       " 'Navneet Singh Patel': 'LIKE',\n",
       " 'Neha Tripathi': 'LIKE',\n",
       " 'Niharika Banerjee': 'LIKE',\n",
       " 'Nikhil Sreenivasa Murthy': 'HAHA',\n",
       " 'Nikita Garg': 'HAHA',\n",
       " 'Nivedita Cholayil': 'LIKE',\n",
       " 'PS Pranika': 'LIKE',\n",
       " 'Parimal Bajpai': 'LIKE',\n",
       " 'Pavan Jayaprakash': 'LIKE',\n",
       " 'Pavan Melukote': 'HAHA',\n",
       " 'Prasnabachi Sahu': 'HAHA',\n",
       " 'Pratik Das': 'LIKE',\n",
       " 'Pratyush Arya': 'SAD',\n",
       " 'Praveen Hegde': 'LIKE',\n",
       " 'Preeti Sharma': 'LIKE',\n",
       " 'Raghavendrra Mahesh': 'LIKE',\n",
       " 'Ritesh S Rao': 'HAHA',\n",
       " 'Sameer Mohan': 'HAHA',\n",
       " 'Sandeep Ojha': 'LIKE',\n",
       " 'Sara Iyer': 'LIKE',\n",
       " 'Shewali Tiwari': 'LIKE',\n",
       " 'Shri Vaishali Venkatesan': 'HAHA',\n",
       " 'Shruthi Jothsana': 'HAHA',\n",
       " 'Sindhu Shandilya': 'HAHA',\n",
       " 'Sneha Lakshmisha': 'LIKE',\n",
       " 'Srijani Datta': 'LOVE',\n",
       " 'Srikanth Vasishta': 'LIKE',\n",
       " 'Subhendu Ghosh': 'HAHA',\n",
       " 'Sunil Mariraj': 'HAHA',\n",
       " 'Suraksha Shetty': 'LIKE',\n",
       " 'Svetha Hariharan': 'HAHA',\n",
       " 'Swathi Rajaram': 'LIKE',\n",
       " 'Tamanna MN': 'HAHA',\n",
       " 'Uma Srikumar': 'LIKE',\n",
       " 'Umesh Rao': 'HAHA',\n",
       " 'Varshasri Ps': 'HAHA',\n",
       " 'Vasuda Sabesan': 'LIKE',\n",
       " 'Vasudha Pande': 'SAD',\n",
       " 'Venkataramanan Venkateswaran': 'HAHA',\n",
       " 'Venkatesan Thiyagarajan': 'LIKE',\n",
       " 'Vignesh Prabhu': 'LIKE',\n",
       " 'Vinay Shenoy': 'LIKE',\n",
       " 'Vinod Baba': 'LIKE'}"
      ]
     },
     "execution_count": 34,
     "metadata": {},
     "output_type": "execute_result"
    }
   ],
   "source": []
  },
  {
   "cell_type": "code",
   "execution_count": 42,
   "metadata": {
    "collapsed": false
   },
   "outputs": [],
   "source": [
    "import operator"
   ]
  },
  {
   "cell_type": "code",
   "execution_count": 43,
   "metadata": {
    "collapsed": false
   },
   "outputs": [],
   "source": [
    "sorted_x = sorted(reactions.items(), key=operator.itemgetter(1))\n"
   ]
  },
  {
   "cell_type": "code",
   "execution_count": 49,
   "metadata": {
    "collapsed": false
   },
   "outputs": [
    {
     "name": "stdout",
     "output_type": "stream",
     "text": [
      "Pavan Melukote\n",
      "Shri Vaishali Venkatesan\n",
      "Umesh Rao\n",
      "Akshata Tare\n",
      "Venkataramanan Venkateswaran\n",
      "Ritesh S Rao\n",
      "Svetha Hariharan\n",
      "Tamanna MN\n",
      "Mohan Nayaka\n",
      "Sindhu Shandilya\n",
      "Sunil Mariraj\n",
      "Prasnabachi Sahu\n",
      "Nikhil Sreenivasa Murthy\n",
      "Karthik Keramalu\n",
      "Apoorva Srinivas\n",
      "Arjun Bharadwaj\n",
      "Harish Balasubramanian\n",
      "Bindu Madhav\n",
      "Naveen Ravindran\n",
      "Aishwarya Ramakrishnan\n",
      "Kanika Mendiratta\n",
      "Deepesh Rawat\n",
      "Nikita Garg\n",
      "MadKing Santhosh Guru\n",
      "Adith Shenoy\n",
      "Sameer Mohan\n",
      "Dheeraj Santosh Kollipara\n",
      "Shruthi Jothsana\n",
      "Subhendu Ghosh\n",
      "Varshasri Ps\n",
      "Sandeep Ojha\n",
      "Raghavendrra Mahesh\n",
      "Archana Revi\n",
      "Praveen Hegde\n",
      "Naga Teja\n",
      "Sneha Lakshmisha\n",
      "Bharadwaj K Bardi\n",
      "Uma Srikumar\n",
      "Anil Gandhi\n",
      "Anubha Upadhya M\n",
      "Manas J Saloi\n",
      "Preeti Sharma\n",
      "Mark Vailshery\n",
      "Sara Iyer\n",
      "Madhuri Parthasarathy\n",
      "Navneet Singh Patel\n",
      "Gayathri Sitaraman\n",
      "Pratik Das\n",
      "Pavan Jayaprakash\n",
      "Mohit Tater\n",
      "Parimal Bajpai\n",
      "Suraksha Shetty\n",
      "Indushree Mohan\n",
      "Venkatesan Thiyagarajan\n",
      "Gokul S Nath\n",
      "Ghanshyam Patil\n",
      "Vignesh Prabhu\n",
      "Nivedita Cholayil\n",
      "Shewali Tiwari\n",
      "Neha Tripathi\n",
      "Vinay Shenoy\n",
      "Vinod Baba\n",
      "Srikanth Vasishta\n",
      "Vasuda Sabesan\n",
      "Swathi Rajaram\n",
      "Niharika Banerjee\n",
      "PS Pranika\n",
      "Archana Rajagopal\n",
      "Srijani Datta\n",
      "Pratyush Arya\n",
      "Vasudha Pande\n"
     ]
    }
   ],
   "source": [
    "for k,v in sorted_x:\n",
    "    print(k)"
   ]
  },
  {
   "cell_type": "code",
   "execution_count": 100,
   "metadata": {
    "collapsed": false
   },
   "outputs": [
    {
     "name": "stdout",
     "output_type": "stream",
     "text": [
      "Overwriting facebook_reactions.py\n"
     ]
    }
   ],
   "source": [
    "%%file facebook_reactions.py\n",
    "import operator\n",
    "import requests\n",
    "\n",
    "feed_url = \"https://graph.facebook.com/v2.5/10152460834423273/feed?limit=100&__paging_token=enc_AdC0e5dvKoSQmXJylWG9ZCB2HOcqrn0h8aKiZAXhZAWwspwXXGbMQrctxddQsukemXMFmPC1MVhZCLW74QdPJf5Xeo7M&since=1510280679&access_token=EAACEdEose0cBADamPVA31qDpt8h4aHFwCMLnZB8i1BootdvmP54SqkPE5GZARzpIMWUIHXzEEznZBBS8zsf32ZCzN0UBW5MNs2AYZBp3ZAHb3jfGQy1I1lW4783JJuY6LtlZAZBpiNge1bXAFJZArtxbsLj3NiIGVtNS02yg3QfcqvrwZASeN0aTx5ZAHGeocpMvxkZD\"\n",
    "call_feed_url = requests.get(feed_url)\n",
    "#Ensuring success\n",
    "\n",
    "if call_feed_url.status_code == 200:\n",
    "    statuses = {}\n",
    "    counter = 0\n",
    "    for i in call_feed_url.json()['data']:\n",
    "        lis = []\n",
    "        lis.append(i['id'])\n",
    "        lis.append(i['created_time'])\n",
    "        if 'message' in i:\n",
    "            lis.append(i['message'])\n",
    "        elif 'story' in i:\n",
    "            lis.append(i['story'])\n",
    "        statuses[counter]=lis\n",
    "        counter = counter+1\n",
    "li = []\n",
    "for i in statuses.values():\n",
    "    li.append(i)\n",
    "\n",
    "for i in li:\n",
    "    print(i[0],\"|\",i[1],\"|\",i[2])"
   ]
  },
  {
   "cell_type": "code",
   "execution_count": 69,
   "metadata": {
    "collapsed": false
   },
   "outputs": [],
   "source": [
    "li=[]\n",
    "for i in reactions.values():\n",
    "    li.append(i)"
   ]
  },
  {
   "cell_type": "code",
   "execution_count": 70,
   "metadata": {
    "collapsed": false
   },
   "outputs": [
    {
     "data": {
      "text/plain": [
       "['HAHA', 'LIKE', 'HAHA', 'LIKE', 'HAHA', 'LIKE', 'LIKE', 'SAD', 'HAHA', 'LIKE']"
      ]
     },
     "execution_count": 70,
     "metadata": {},
     "output_type": "execute_result"
    }
   ],
   "source": [
    "li[:10]"
   ]
  },
  {
   "cell_type": "code",
   "execution_count": 74,
   "metadata": {
    "collapsed": false
   },
   "outputs": [
    {
     "name": "stderr",
     "output_type": "stream",
     "text": [
      "UsageError: %%python3 is a cell magic, but the cell body is empty.\n"
     ]
    }
   ],
   "source": [
    "%%python3 facebook_reactions.py"
   ]
  },
  {
   "cell_type": "code",
   "execution_count": 76,
   "metadata": {
    "collapsed": true
   },
   "outputs": [],
   "source": [
    "feed_url = \"https://graph.facebook.com/v2.5/10152460834423273/feed?limit=100&__paging_token=enc_AdC0e5dvKoSQmXJylWG9ZCB2HOcqrn0h8aKiZAXhZAWwspwXXGbMQrctxddQsukemXMFmPC1MVhZCLW74QdPJf5Xeo7M&since=1510280679&access_token=EAACEdEose0cBACyiuxUe4SdZBwW6ZAbbKQOU6j12PCIZBf4LcGf15VZBmBzY7kUtYXGdj8PSa8CP44G49ZCoS0E5fqURfB0hZCwKwAS1ZBZBjeIhYssiOOpOT8uDJAe2XHMUl0IwoDD5xl1ZBEkAUW0xNIcUCC2mmZAyl1obonSKAZCl2wqFiKf97qhlFIZCBmqhyAsZD\"\n"
   ]
  },
  {
   "cell_type": "code",
   "execution_count": 77,
   "metadata": {
    "collapsed": true
   },
   "outputs": [],
   "source": [
    "call_feed_url = requests.get(feed_url)\n"
   ]
  },
  {
   "cell_type": "code",
   "execution_count": 83,
   "metadata": {
    "collapsed": false
   },
   "outputs": [
    {
     "name": "stdout",
     "output_type": "stream",
     "text": [
      "Confirmation bias aside, this is a really nice article to read :) \n",
      "\n",
      "#tldr? #WorkHard #StayHappy\n",
      "Saw a girl on the Metro wearing  sneakers similar to mine.\n",
      "\n",
      "Hey sole sister!😌\n",
      "You can't completely be from Spain. You can only be Span-ish.\n",
      "Saw a surly kid looking out the window of his dad's car growing increasingly impatient in the backseat as they inched through traffic on MG Road.\n",
      "Wouldn't be surprised if he went home and started writing a book titled \"Kid's Kampf\".\n",
      "\"Garb\" is clothing. But \"Garbage\" is trash 🤔 I guess everything goes bad over time\n",
      "I see people traveling far and wide and I'm wondering.. Kaise yaar o.o I get tired just by looking at places on Google Maps :-/\n",
      "\n",
      "#wonderlust\n",
      "What do monks use when they get a back ache?\n",
      "\n",
      "Zendu Balm 🤔😌\n",
      "\n",
      "#LateNightThoughts\n",
      "For research purposes\n",
      "Dat dopamine tho.\n",
      "You Know Puliyogare/ Puliyodharai was way ahead of its time coz there's a \"Yo\" in the name. 🤘😌\n",
      "Who called it consumer study and not buyology?\n",
      "When your doodle is shitty but you are delusional enough to believe that you can still be plagiarized so you sign it anyway 😌 #doodles #abhicantdraw #stickfigure #hinglish\n",
      "Damn.. Picasso level stuff right here.\n",
      "I refuse to believe that farmers don't buy chicken and hum \"koli mil gaya\".\n",
      "My Punjabi friend wasn't pleased when I asked her if she planned to be an Interior Dekaurator.\n",
      "2 years of sadness\n",
      "Plot twist : French painter Monet's father was actually a Mallu and was too lazy to really name his son.\n",
      "Kaafi good presentation. And good kaapi olso.\n",
      "Udhar : Tron\n",
      "Idhar : Mitron\n",
      "#anjuscafe The new one. Looks like it'll be a great place to sit and read in the evening 😁😊\n",
      "What are the chances that people who lose weight will regain it soon enough?\n",
      "Re-mote\n",
      "Found that my usual shortcut home has been blocked by the construction of a new temple -_- Guess it's true then 😕\n",
      "Where there's a kowill, there's no way.\n",
      "\"It was the best of times, it was the worst of times.\n",
      "Ghar me sab thae, but there was no milk, so chaai nhi bani.\"\n",
      "-Charles Dickens\n",
      "\n",
      "#trueStory #ATaleOfTwoSthithis\n",
      "#peerpressure #staystrong #tipsforkids #doodlesofinstagram #doodles #puns\n",
      "Who called her Mayawati and not UPmaa\n"
     ]
    }
   ],
   "source": [
    "for i in call_feed_url.json()['data']:\n",
    "    if 'message' in i:\n",
    "        print(i['message'])\n",
    "\n",
    "li=[]\n",
    "for i in reactions.values():\n",
    "    li.append(i)"
   ]
  },
  {
   "cell_type": "code",
   "execution_count": 101,
   "metadata": {
    "collapsed": true
   },
   "outputs": [],
   "source": [
    "re1 = \"https://graph.facebook.com/v2.5/10152460834423273/feed?limit=25&__paging_token=enc_AdAXF9uurmVoZAXBLO2BIn3Ez0sc1wUeMiv5RIKFpwaZA6fVYJdP8sntFKBMfa0hepR1yBDtZB4ahrlm6I7b0p9qGJE&access_token=EAACEdEose0cBADamPVA31qDpt8h4aHFwCMLnZB8i1BootdvmP54SqkPE5GZARzpIMWUIHXzEEznZBBS8zsf32ZCzN0UBW5MNs2AYZBp3ZAHb3jfGQy1I1lW4783JJuY6LtlZAZBpiNge1bXAFJZArtxbsLj3NiIGVtNS02yg3QfcqvrwZASeN0aTx5ZAHGeocpMvxkZD&until=1501315029\""
   ]
  },
  {
   "cell_type": "code",
   "execution_count": 102,
   "metadata": {
    "collapsed": true
   },
   "outputs": [],
   "source": [
    "req_res = requests.get(re1)"
   ]
  },
  {
   "cell_type": "code",
   "execution_count": 109,
   "metadata": {
    "collapsed": true
   },
   "outputs": [],
   "source": [
    "def re2(gimme):\n",
    "    res2=\"https://graph.facebook.com/v2.6/\"+gimme+\"/reactions?__paging_token=enc_AdAXF9uurmVoZAXBLO2BIn3Ez0sc1wUeMiv5RIKFpwaZA6fVYJdP8sntFKBMfa0hepR1yBDtZB4ahrlm6I7b0p9qGJE&access_token=EAACEdEose0cBADamPVA31qDpt8h4aHFwCMLnZB8i1BootdvmP54SqkPE5GZARzpIMWUIHXzEEznZBBS8zsf32ZCzN0UBW5MNs2AYZBp3ZAHb3jfGQy1I1lW4783JJuY6LtlZAZBpiNge1bXAFJZArtxbsLj3NiIGVtNS02yg3QfcqvrwZASeN0aTx5ZAHGeocpMvxkZD&until=1501315029\"\n",
    "    return requests.get(res2)"
   ]
  },
  {
   "cell_type": "code",
   "execution_count": 104,
   "metadata": {
    "collapsed": false
   },
   "outputs": [
    {
     "data": {
      "text/plain": [
       "{'data': [{'created_time': '2017-07-29T07:38:32+0000',\n",
       "   'id': '886488524724133_1573462649360047',\n",
       "   'message': 'Vinay Shenoy Aarzu Sadana Abhiram Ramesh Varun Vasudev Sameer Mohan Himanshi Upadhyaya Bindu Madhav Kamal Karan Matham Raghavendrra Mahesh Jagjot Cheema',\n",
       "   'story': \"Radhika Chauhan shared Harry Potter and Fantastic Beasts Facts & Stuff's video.\"},\n",
       "  {'created_time': '2017-07-28T17:58:03+0000',\n",
       "   'id': '10152460834423273_10155956270383273',\n",
       "   'message': '#doodles #thisIsComing',\n",
       "   'story': \"Abhiram Ramesh shared Abhicantdraw's album: Fight Club - The Teaser since the movie.\"},\n",
       "  {'created_time': '2017-07-28T15:55:04+0000',\n",
       "   'id': '10152460834423273_10155955653458273',\n",
       "   'message': \"A guy here thought I was abusing him when I asked him if his tattoo was an ambigram o.o I'm starting to think he didn't pick it out o.o \\n\\n#Dei #JustSaying\"},\n",
       "  {'created_time': '2017-07-28T15:41:06+0000',\n",
       "   'id': '886488524724133_1572896682749977',\n",
       "   'message': 'Abhiram Ramesh Jagjot Cheema Raghavendrra Mahesh Aarzu Sadana Varun Vasudev Bindu Madhav  Vinay Shenoy Sameer Mohan Himanshi Upadhyaya it is known',\n",
       "   'story': \"Radhika Chauhan shared See More's post.\"},\n",
       "  {'created_time': '2017-07-28T04:27:25+0000',\n",
       "   'id': '10152460834423273_10155954153193273',\n",
       "   'message': '😊'},\n",
       "  {'created_time': '2017-07-27T14:02:47+0000',\n",
       "   'id': '10152460834423273_10155950908903273',\n",
       "   'message': \"I forgot to put tomatoes in the upma, but in the end, it doesn't even tamatar. \\n\\n#LP\"},\n",
       "  {'created_time': '2017-07-26T15:27:23+0000',\n",
       "   'id': '10152460834423273_10155946814763273',\n",
       "   'message': 'I finally get all the \"rich south Mumbai\" jokes 😂'},\n",
       "  {'created_time': '2017-07-26T14:29:39+0000',\n",
       "   'id': '10152460834423273_10155946586268273',\n",
       "   'message': '🦁 the pain is real',\n",
       "   'story': \"Abhiram Ramesh shared Too Sassy's photo.\"},\n",
       "  {'created_time': '2017-07-25T18:27:16+0000',\n",
       "   'id': '10152460834423273_10155943187613273',\n",
       "   'message': 'When you\\'re confident with the autodriver in a new city about the place you want to go to.... \\nBut then he puts you in your \\'aukaat\\' by asking - \"Haan ji kaise jaana hai?\" 😕'},\n",
       "  {'created_time': '2017-07-25T16:07:15+0000',\n",
       "   'id': '10152460834423273_10155942208368273',\n",
       "   'message': \"I think I'd be okay with mosquitos if they hummed The Dark Knight's theme song.\"},\n",
       "  {'created_time': '2017-07-25T08:57:18+0000',\n",
       "   'id': '10152460834423273_10155940937023273',\n",
       "   'message': 'That would be you',\n",
       "   'story': 'Radhika Chauhan shared a photo to your timeline.'},\n",
       "  {'created_time': '2017-07-24T18:14:09+0000',\n",
       "   'id': '10152460834423273_10155938688623273',\n",
       "   'message': 'Debtors be like - \\nI walk a loan le road, the only one that I have ever known'},\n",
       "  {'created_time': '2017-07-24T15:48:03+0000',\n",
       "   'id': '10152460834423273_10155937977598273',\n",
       "   'message': 'I found you Kumbh ke mele me bichda hua long lost bhai! :P',\n",
       "   'story': 'Tamanna MN shared a photo to your timeline.'},\n",
       "  {'created_time': '2017-07-24T13:16:03+0000',\n",
       "   'id': '10152460834423273_10155937432478273',\n",
       "   'message': \"Goodbye #MSPaint. You're the reason I am the successful artist I am today.\"},\n",
       "  {'created_time': '2017-07-23T16:36:43+0000',\n",
       "   'id': '10152460834423273_10155933817343273',\n",
       "   'message': 'Overheard after Dunkirk - \\n\"Abey tu toh bola Batman movie hai\" \\n\\n#somebodyGotPopatified'},\n",
       "  {'created_time': '2017-07-23T16:28:52+0000',\n",
       "   'id': '10152460834423273_10155933785143273',\n",
       "   'message': '🖐️😌 #TheQuoranNetwork',\n",
       "   'story': 'Abhiram Ramesh is with Mohan Nayaka.'},\n",
       "  {'created_time': '2017-07-23T06:24:41+0000',\n",
       "   'id': '10152460834423273_10155932092938273',\n",
       "   'message': \"Lifting up your mobile for signal be like - 'Ae maalik tere bande hum'\"},\n",
       "  {'created_time': '2017-07-22T09:54:57+0000',\n",
       "   'id': '10152460834423273_10155928021283273',\n",
       "   'message': \"Mumbai se pranaam 😌 ping me if you're here and want to catch up over the week!\"},\n",
       "  {'created_time': '2017-07-22T05:12:55+0000',\n",
       "   'id': '10152460834423273_10155927504443273',\n",
       "   'story': 'Abhiram Ramesh updated his cover photo.'},\n",
       "  {'created_time': '2017-07-22T02:00:49+0000',\n",
       "   'id': '10152460834423273_10155927052878273',\n",
       "   'message': \"Idea for movie - \\nMan rescued from sea. Has lost his memory except for subconscious things that he can do like tying knots and reading and writing and understanding cryptic stuff like Binary messages.\\nThis guy's watched spy movies and thinks there might be some clue there.\\n.\\n.\\n.\\n.\\nClimax - Finds out he was a software engineer who didn't know how to wear a tie correctly.\\n\\n#TheBoredIdentity\"},\n",
       "  {'created_time': '2017-07-21T14:08:18+0000',\n",
       "   'id': '10152460834423273_10155924455413273',\n",
       "   'message': 'My friend Samarjit is 48 years old. We fondly call him Samar of 69.'},\n",
       "  {'created_time': '2017-07-21T02:42:55+0000',\n",
       "   'id': '10152460834423273_10155922755648273',\n",
       "   'message': \"I don't like clubs. I'm scared of them. \\nDil me mere hai darr de disco.\"},\n",
       "  {'created_time': '2017-07-20T18:54:24+0000',\n",
       "   'id': '10152460834423273_10155921217813273',\n",
       "   'message': \"You were wrong Chester. In the end, it still matters :-/ :'( \\n\\n#RIP\"},\n",
       "  {'created_time': '2017-07-20T17:11:08+0000',\n",
       "   'id': '10152460834423273_10155920693348273',\n",
       "   'message': 'Wonder Woman is the best Amazon princess.\\nYou could call her.. Amazon Prime.'},\n",
       "  {'created_time': '2017-07-20T13:03:10+0000',\n",
       "   'id': '10152460834423273_10155919792328273',\n",
       "   'message': 'New post - \\nhttps://medium.com/@soliloquist/leafy-241271a05fc2\\n\\n#ShortStory'}],\n",
       " 'paging': {'next': 'https://graph.facebook.com/v2.5/10152460834423273/feed?limit=25&__paging_token=enc_AdAafRG9EecUdH7eS4W84Kcu1NGqAMW8y9RfDhkP0eKboZCTf12z06jAhQtZA5ZADMZAQwau80e982ZCPn6KnBMMshM5h&access_token=EAACEdEose0cBADamPVA31qDpt8h4aHFwCMLnZB8i1BootdvmP54SqkPE5GZARzpIMWUIHXzEEznZBBS8zsf32ZCzN0UBW5MNs2AYZBp3ZAHb3jfGQy1I1lW4783JJuY6LtlZAZBpiNge1bXAFJZArtxbsLj3NiIGVtNS02yg3QfcqvrwZASeN0aTx5ZAHGeocpMvxkZD&until=1500555790',\n",
       "  'previous': 'https://graph.facebook.com/v2.5/10152460834423273/feed?limit=25&__paging_token=enc_AdDxKueRyXeOmWb6ZAYGIrTePphdgWxcPl94nvvRyKRvUgpaRm6K2syMmWCZCXlHb63BYEAYlVNqSp1v19W5wyCoE0wiKoSKQQEXQiZABD6qcYAiAZDZD&since=1501313912&access_token=EAACEdEose0cBADamPVA31qDpt8h4aHFwCMLnZB8i1BootdvmP54SqkPE5GZARzpIMWUIHXzEEznZBBS8zsf32ZCzN0UBW5MNs2AYZBp3ZAHb3jfGQy1I1lW4783JJuY6LtlZAZBpiNge1bXAFJZArtxbsLj3NiIGVtNS02yg3QfcqvrwZASeN0aTx5ZAHGeocpMvxkZD&__previous=1'}}"
      ]
     },
     "execution_count": 104,
     "metadata": {},
     "output_type": "execute_result"
    }
   ],
   "source": [
    "req_res.json()"
   ]
  },
  {
   "cell_type": "code",
   "execution_count": 110,
   "metadata": {
    "collapsed": true
   },
   "outputs": [],
   "source": [
    "vals = re2(\"10152460834423273_10155942208368273\")"
   ]
  },
  {
   "cell_type": "code",
   "execution_count": 111,
   "metadata": {
    "collapsed": false
   },
   "outputs": [
    {
     "data": {
      "text/plain": [
       "{'data': [{'id': '10204274232028698', 'name': 'Tedd Fox', 'type': 'LIKE'},\n",
       "  {'id': '1411544939', 'name': 'Abhiram Ravikumar', 'type': 'LIKE'},\n",
       "  {'id': '10152528769246891', 'name': 'Swapnil Srivastava', 'type': 'LIKE'},\n",
       "  {'id': '10207906105303487', 'name': 'Rohit Gupta', 'type': 'HAHA'},\n",
       "  {'id': '10154082385754003', 'name': 'Deepesh Rawat', 'type': 'LIKE'},\n",
       "  {'id': '830140180350224', 'name': 'Pragya Malkani', 'type': 'LIKE'},\n",
       "  {'id': '10202387471077141', 'name': 'Zubin Sunkad', 'type': 'LIKE'},\n",
       "  {'id': '776953318981332', 'name': 'Keerthana Balakrishnan', 'type': 'LIKE'},\n",
       "  {'id': '10154086837970430', 'name': 'Guru Charan', 'type': 'HAHA'},\n",
       "  {'id': '992832124081547', 'name': 'Shashikiran Nanjappa', 'type': 'LIKE'},\n",
       "  {'id': '10153649381069311', 'name': 'Aaron Jude Rasquinha', 'type': 'LIKE'},\n",
       "  {'id': '812261942165878', 'name': 'Sandeep Ojha', 'type': 'LIKE'},\n",
       "  {'id': '830533513659014', 'name': 'Ashwini Rao', 'type': 'LIKE'},\n",
       "  {'id': '957736494255061', 'name': 'Manasa V Sharadh', 'type': 'HAHA'},\n",
       "  {'id': '1052420836', 'name': 'Umesh Rao', 'type': 'HAHA'},\n",
       "  {'id': '954483994562579', 'name': 'Purnima Venkateswaran', 'type': 'LIKE'},\n",
       "  {'id': '10152138719744285', 'name': 'Raghavendrra Mahesh', 'type': 'LIKE'},\n",
       "  {'id': '10202001936798029', 'name': 'Nivedita Cholayil', 'type': 'HAHA'},\n",
       "  {'id': '10154020737328214', 'name': 'Abhijit Jain', 'type': 'HAHA'},\n",
       "  {'id': '884989151522105', 'name': 'Pranavi Pullagummi', 'type': 'HAHA'},\n",
       "  {'id': '1206906749', 'name': 'Adith Shenoy', 'type': 'LIKE'},\n",
       "  {'id': '1682368915317677', 'name': 'Geethu Nair', 'type': 'LIKE'},\n",
       "  {'id': '10201704176481014', 'name': 'Shewali Tiwari', 'type': 'LIKE'},\n",
       "  {'id': '693618217369100', 'name': 'Deepta Boppanda', 'type': 'LIKE'},\n",
       "  {'id': '4572255762046', 'name': 'MadKing Santhosh Guru', 'type': 'HAHA'}],\n",
       " 'paging': {'cursors': {'after': 'TVRjMk1UTTFORGt6TVRveE5UQXdPVGs1TURNME9qYzRPRFkwT0RBek56a3hNek14TWc9PQZDZD',\n",
       "   'before': 'TVRBeE5USTJOalV4TXpveE5UQXhNakUxTVRBNE9qSTFOREE1TmpFMk1UTT0ZD'},\n",
       "  'next': 'https://graph.facebook.com/v2.6/10152460834423273_10155942208368273/reactions?access_token=EAACEdEose0cBADamPVA31qDpt8h4aHFwCMLnZB8i1BootdvmP54SqkPE5GZARzpIMWUIHXzEEznZBBS8zsf32ZCzN0UBW5MNs2AYZBp3ZAHb3jfGQy1I1lW4783JJuY6LtlZAZBpiNge1bXAFJZArtxbsLj3NiIGVtNS02yg3QfcqvrwZASeN0aTx5ZAHGeocpMvxkZD&until=1501315029&limit=25&after=TVRjMk1UTTFORGt6TVRveE5UQXdPVGs1TURNME9qYzRPRFkwT0RBek56a3hNek14TWc9PQZDZD'}}"
      ]
     },
     "execution_count": 111,
     "metadata": {},
     "output_type": "execute_result"
    }
   ],
   "source": [
    "vals.json()"
   ]
  },
  {
   "cell_type": "code",
   "execution_count": 112,
   "metadata": {
    "collapsed": true
   },
   "outputs": [],
   "source": [
    "resp_parse = vals.json()"
   ]
  },
  {
   "cell_type": "code",
   "execution_count": 120,
   "metadata": {
    "collapsed": false
   },
   "outputs": [
    {
     "data": {
      "text/plain": [
       "[{'id': '10204274232028698', 'name': 'Tedd Fox', 'type': 'LIKE'},\n",
       " {'id': '1411544939', 'name': 'Abhiram Ravikumar', 'type': 'LIKE'},\n",
       " {'id': '10152528769246891', 'name': 'Swapnil Srivastava', 'type': 'LIKE'},\n",
       " {'id': '10207906105303487', 'name': 'Rohit Gupta', 'type': 'HAHA'},\n",
       " {'id': '10154082385754003', 'name': 'Deepesh Rawat', 'type': 'LIKE'},\n",
       " {'id': '830140180350224', 'name': 'Pragya Malkani', 'type': 'LIKE'},\n",
       " {'id': '10202387471077141', 'name': 'Zubin Sunkad', 'type': 'LIKE'},\n",
       " {'id': '776953318981332', 'name': 'Keerthana Balakrishnan', 'type': 'LIKE'},\n",
       " {'id': '10154086837970430', 'name': 'Guru Charan', 'type': 'HAHA'},\n",
       " {'id': '992832124081547', 'name': 'Shashikiran Nanjappa', 'type': 'LIKE'},\n",
       " {'id': '10153649381069311', 'name': 'Aaron Jude Rasquinha', 'type': 'LIKE'},\n",
       " {'id': '812261942165878', 'name': 'Sandeep Ojha', 'type': 'LIKE'},\n",
       " {'id': '830533513659014', 'name': 'Ashwini Rao', 'type': 'LIKE'},\n",
       " {'id': '957736494255061', 'name': 'Manasa V Sharadh', 'type': 'HAHA'},\n",
       " {'id': '1052420836', 'name': 'Umesh Rao', 'type': 'HAHA'},\n",
       " {'id': '954483994562579', 'name': 'Purnima Venkateswaran', 'type': 'LIKE'},\n",
       " {'id': '10152138719744285', 'name': 'Raghavendrra Mahesh', 'type': 'LIKE'},\n",
       " {'id': '10202001936798029', 'name': 'Nivedita Cholayil', 'type': 'HAHA'},\n",
       " {'id': '10154020737328214', 'name': 'Abhijit Jain', 'type': 'HAHA'},\n",
       " {'id': '884989151522105', 'name': 'Pranavi Pullagummi', 'type': 'HAHA'},\n",
       " {'id': '1206906749', 'name': 'Adith Shenoy', 'type': 'LIKE'},\n",
       " {'id': '1682368915317677', 'name': 'Geethu Nair', 'type': 'LIKE'},\n",
       " {'id': '10201704176481014', 'name': 'Shewali Tiwari', 'type': 'LIKE'},\n",
       " {'id': '693618217369100', 'name': 'Deepta Boppanda', 'type': 'LIKE'},\n",
       " {'id': '4572255762046', 'name': 'MadKing Santhosh Guru', 'type': 'HAHA'}]"
      ]
     },
     "execution_count": 120,
     "metadata": {},
     "output_type": "execute_result"
    }
   ],
   "source": [
    "(resp_parse['data'])"
   ]
  },
  {
   "cell_type": "raw",
   "metadata": {},
   "source": [
    "for i in resp_parse:\n",
    "     print i"
   ]
  },
  {
   "cell_type": "code",
   "execution_count": 121,
   "metadata": {
    "collapsed": false
   },
   "outputs": [
    {
     "data": {
      "text/plain": [
       "{'data': [{'id': '10204274232028698', 'name': 'Tedd Fox', 'type': 'LIKE'},\n",
       "  {'id': '1411544939', 'name': 'Abhiram Ravikumar', 'type': 'LIKE'},\n",
       "  {'id': '10152528769246891', 'name': 'Swapnil Srivastava', 'type': 'LIKE'},\n",
       "  {'id': '10207906105303487', 'name': 'Rohit Gupta', 'type': 'HAHA'},\n",
       "  {'id': '10154082385754003', 'name': 'Deepesh Rawat', 'type': 'LIKE'},\n",
       "  {'id': '830140180350224', 'name': 'Pragya Malkani', 'type': 'LIKE'},\n",
       "  {'id': '10202387471077141', 'name': 'Zubin Sunkad', 'type': 'LIKE'},\n",
       "  {'id': '776953318981332', 'name': 'Keerthana Balakrishnan', 'type': 'LIKE'},\n",
       "  {'id': '10154086837970430', 'name': 'Guru Charan', 'type': 'HAHA'},\n",
       "  {'id': '992832124081547', 'name': 'Shashikiran Nanjappa', 'type': 'LIKE'},\n",
       "  {'id': '10153649381069311', 'name': 'Aaron Jude Rasquinha', 'type': 'LIKE'},\n",
       "  {'id': '812261942165878', 'name': 'Sandeep Ojha', 'type': 'LIKE'},\n",
       "  {'id': '830533513659014', 'name': 'Ashwini Rao', 'type': 'LIKE'},\n",
       "  {'id': '957736494255061', 'name': 'Manasa V Sharadh', 'type': 'HAHA'},\n",
       "  {'id': '1052420836', 'name': 'Umesh Rao', 'type': 'HAHA'},\n",
       "  {'id': '954483994562579', 'name': 'Purnima Venkateswaran', 'type': 'LIKE'},\n",
       "  {'id': '10152138719744285', 'name': 'Raghavendrra Mahesh', 'type': 'LIKE'},\n",
       "  {'id': '10202001936798029', 'name': 'Nivedita Cholayil', 'type': 'HAHA'},\n",
       "  {'id': '10154020737328214', 'name': 'Abhijit Jain', 'type': 'HAHA'},\n",
       "  {'id': '884989151522105', 'name': 'Pranavi Pullagummi', 'type': 'HAHA'},\n",
       "  {'id': '1206906749', 'name': 'Adith Shenoy', 'type': 'LIKE'},\n",
       "  {'id': '1682368915317677', 'name': 'Geethu Nair', 'type': 'LIKE'},\n",
       "  {'id': '10201704176481014', 'name': 'Shewali Tiwari', 'type': 'LIKE'},\n",
       "  {'id': '693618217369100', 'name': 'Deepta Boppanda', 'type': 'LIKE'},\n",
       "  {'id': '4572255762046', 'name': 'MadKing Santhosh Guru', 'type': 'HAHA'}],\n",
       " 'paging': {'cursors': {'after': 'TVRjMk1UTTFORGt6TVRveE5UQXdPVGs1TURNME9qYzRPRFkwT0RBek56a3hNek14TWc9PQZDZD',\n",
       "   'before': 'TVRBeE5USTJOalV4TXpveE5UQXhNakUxTVRBNE9qSTFOREE1TmpFMk1UTT0ZD'},\n",
       "  'next': 'https://graph.facebook.com/v2.6/10152460834423273_10155942208368273/reactions?access_token=EAACEdEose0cBADamPVA31qDpt8h4aHFwCMLnZB8i1BootdvmP54SqkPE5GZARzpIMWUIHXzEEznZBBS8zsf32ZCzN0UBW5MNs2AYZBp3ZAHb3jfGQy1I1lW4783JJuY6LtlZAZBpiNge1bXAFJZArtxbsLj3NiIGVtNS02yg3QfcqvrwZASeN0aTx5ZAHGeocpMvxkZD&until=1501315029&limit=25&after=TVRjMk1UTTFORGt6TVRveE5UQXdPVGs1TURNME9qYzRPRFkwT0RBek56a3hNek14TWc9PQZDZD'}}"
      ]
     },
     "execution_count": 121,
     "metadata": {},
     "output_type": "execute_result"
    }
   ],
   "source": [
    "resp_parse"
   ]
  },
  {
   "cell_type": "code",
   "execution_count": 123,
   "metadata": {
    "collapsed": false
   },
   "outputs": [
    {
     "name": "stdout",
     "output_type": "stream",
     "text": [
      "LIKE\n",
      "LIKE\n",
      "LIKE\n",
      "HAHA\n",
      "LIKE\n",
      "LIKE\n",
      "LIKE\n",
      "LIKE\n",
      "HAHA\n",
      "LIKE\n",
      "LIKE\n",
      "LIKE\n",
      "LIKE\n",
      "HAHA\n",
      "HAHA\n",
      "LIKE\n",
      "LIKE\n",
      "HAHA\n",
      "HAHA\n",
      "HAHA\n",
      "LIKE\n",
      "LIKE\n",
      "LIKE\n",
      "LIKE\n",
      "HAHA\n"
     ]
    }
   ],
   "source": [
    "for i in resp_parse['data']:\n",
    "    print(i['type'])\n"
   ]
  },
  {
   "cell_type": "code",
   "execution_count": 125,
   "metadata": {
    "collapsed": false
   },
   "outputs": [],
   "source": [
    "reactions44= [i['type'] for i in resp_parse['data']]"
   ]
  },
  {
   "cell_type": "code",
   "execution_count": 126,
   "metadata": {
    "collapsed": true
   },
   "outputs": [],
   "source": [
    "import pandas as pd\n"
   ]
  },
  {
   "cell_type": "code",
   "execution_count": 127,
   "metadata": {
    "collapsed": true
   },
   "outputs": [],
   "source": [
    "import numpy as np\n"
   ]
  },
  {
   "cell_type": "code",
   "execution_count": 128,
   "metadata": {
    "collapsed": true
   },
   "outputs": [],
   "source": [
    "x=np.array(reactions44)"
   ]
  },
  {
   "cell_type": "code",
   "execution_count": null,
   "metadata": {
    "collapsed": true
   },
   "outputs": [],
   "source": []
  },
  {
   "cell_type": "code",
   "execution_count": 129,
   "metadata": {
    "collapsed": false
   },
   "outputs": [
    {
     "name": "stdout",
     "output_type": "stream",
     "text": [
      "{'LIKE': 17, 'HAHA': 8}\n"
     ]
    }
   ],
   "source": [
    "print(dict(pd.Series(x).value_counts()))\n"
   ]
  },
  {
   "cell_type": "code",
   "execution_count": null,
   "metadata": {
    "collapsed": true
   },
   "outputs": [],
   "source": []
  }
 ],
 "metadata": {
  "anaconda-cloud": {},
  "kernelspec": {
   "display_name": "Python [conda root]",
   "language": "python",
   "name": "conda-root-py"
  },
  "language_info": {
   "codemirror_mode": {
    "name": "ipython",
    "version": 3
   },
   "file_extension": ".py",
   "mimetype": "text/x-python",
   "name": "python",
   "nbconvert_exporter": "python",
   "pygments_lexer": "ipython3",
   "version": "3.5.2"
  }
 },
 "nbformat": 4,
 "nbformat_minor": 2
}
