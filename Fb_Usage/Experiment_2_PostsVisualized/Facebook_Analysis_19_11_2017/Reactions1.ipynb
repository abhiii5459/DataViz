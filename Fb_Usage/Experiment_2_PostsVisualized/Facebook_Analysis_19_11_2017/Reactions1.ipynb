{
 "cells": [
  {
   "cell_type": "code",
   "execution_count": 1,
   "metadata": {},
   "outputs": [
    {
     "name": "stdout",
     "output_type": "stream",
     "text": [
      "Hello\n"
     ]
    }
   ],
   "source": [
    "print(\"Hello\")"
   ]
  },
  {
   "cell_type": "code",
   "execution_count": 2,
   "metadata": {
    "collapsed": true
   },
   "outputs": [],
   "source": [
    "import requests"
   ]
  },
  {
   "cell_type": "code",
   "execution_count": 3,
   "metadata": {},
   "outputs": [],
   "source": [
    "facebook_val = requests.get(\"https://graph.facebook.com/v2.7/10152460834423273_10156397828618273/reactions?limit=600&__paging_token=enc_AdC0e5dvKoSQmXJylWG9ZCB2HOcqrn0h8aKiZAXhZAWwspwXXGbMQrctxddQsukemXMFmPC1MVhZCLW74QdPJf5Xeo7M&since=1510280679&access_token=EAACEdEose0cBACyiuxUe4SdZBwW6ZAbbKQOU6j12PCIZBf4LcGf15VZBmBzY7kUtYXGdj8PSa8CP44G49ZCoS0E5fqURfB0hZCwKwAS1ZBZBjeIhYssiOOpOT8uDJAe2XHMUl0IwoDD5xl1ZBEkAUW0xNIcUCC2mmZAyl1obonSKAZCl2wqFiKf97qhlFIZCBmqhyAsZD\")"
   ]
  },
  {
   "cell_type": "code",
   "execution_count": 4,
   "metadata": {},
   "outputs": [
    {
     "data": {
      "text/plain": [
       "b'{\"error\":{\"message\":\"Error validating access token: Session has expired on Sunday, 19-Nov-17 09:00:00 PST. The current time is Sunday, 26-Nov-17 12:45:37 PST.\",\"type\":\"OAuthException\",\"code\":190,\"error_subcode\":463,\"fbtrace_id\":\"Aug+R6ZN7mo\"}}'"
      ]
     },
     "execution_count": 4,
     "metadata": {},
     "output_type": "execute_result"
    }
   ],
   "source": [
    "facebook_val.content"
   ]
  },
  {
   "cell_type": "code",
   "execution_count": 9,
   "metadata": {},
   "outputs": [
    {
     "data": {
      "text/plain": [
       "bytes"
      ]
     },
     "execution_count": 9,
     "metadata": {},
     "output_type": "execute_result"
    }
   ],
   "source": [
    "type(facebook_val.content)"
   ]
  },
  {
   "cell_type": "code",
   "execution_count": 5,
   "metadata": {},
   "outputs": [
    {
     "data": {
      "text/plain": [
       "{'error': {'code': 190,\n",
       "  'error_subcode': 463,\n",
       "  'fbtrace_id': 'Aug+R6ZN7mo',\n",
       "  'message': 'Error validating access token: Session has expired on Sunday, 19-Nov-17 09:00:00 PST. The current time is Sunday, 26-Nov-17 12:45:37 PST.',\n",
       "  'type': 'OAuthException'}}"
      ]
     },
     "execution_count": 5,
     "metadata": {},
     "output_type": "execute_result"
    }
   ],
   "source": [
    "facebook_val.json() # You cant see the contents anymore :) "
   ]
  },
  {
   "cell_type": "code",
   "execution_count": 17,
   "metadata": {},
   "outputs": [
    {
     "data": {
      "text/plain": [
       "dict"
      ]
     },
     "execution_count": 17,
     "metadata": {},
     "output_type": "execute_result"
    }
   ],
   "source": [
    "type(facebook_val.json())"
   ]
  },
  {
   "cell_type": "code",
   "execution_count": 32,
   "metadata": {
    "collapsed": true
   },
   "outputs": [],
   "source": [
    "reactions = {}"
   ]
  },
  {
   "cell_type": "code",
   "execution_count": 33,
   "metadata": {
    "collapsed": true
   },
   "outputs": [],
   "source": [
    "for i in facebook_val.json()['data']:\n",
    "    reactions[i['name']]=i['type']\n"
   ]
  },
  {
   "cell_type": "code",
   "execution_count": 8,
   "metadata": {},
   "outputs": [
    {
     "name": "stdout",
     "output_type": "stream",
     "text": [
      "Nothing\n"
     ]
    }
   ],
   "source": [
    "print(\"Nothing\")"
   ]
  },
  {
   "cell_type": "code",
   "execution_count": 42,
   "metadata": {
    "collapsed": true
   },
   "outputs": [],
   "source": [
    "import operator"
   ]
  },
  {
   "cell_type": "code",
   "execution_count": 43,
   "metadata": {
    "collapsed": true
   },
   "outputs": [],
   "source": [
    "sorted_x = sorted(reactions.items(), key=operator.itemgetter(1))\n"
   ]
  },
  {
   "cell_type": "code",
   "execution_count": 49,
   "metadata": {},
   "outputs": [
    {
     "name": "stdout",
     "output_type": "stream",
     "text": [
      "<list of names>"
     ]
    }
   ],
   "source": [
    "for k,v in sorted_x:\n",
    "    print(k)"
   ]
  },
  {
   "cell_type": "code",
   "execution_count": 1,
   "metadata": {},
   "outputs": [
    {
     "name": "stdout",
     "output_type": "stream",
     "text": [
      "Overwriting facebook_reactions.py\n"
     ]
    }
   ],
   "source": [
    "%%file facebook_reactions.py\n",
    "import operator\n",
    "import requests\n",
    "import numpy as np\n",
    "import pandas as pd\n",
    "import csv\n",
    "\n",
    "\n",
    "#Write classes\n",
    "access_token=\"EAACEdEose0cBABDc6me35tlENBUkIWY0BCPpJx7fhbbO4m0ZCdKWtXgbDZAZCwp4bxVQmrAakXeChgDS7vubrmMwmVzuRPfP3zZC5F2tqZAWtJ8auaxV1aCAJZACLvSgV5BWEIyY9rB3h1ayCTkxwBHAZC2VFuR9U5V208cZC5IPvCRDZCR61YvoKWoQZC5vw7TE5I589dMIq5BgZDZD\"\n",
    "time_wanted = \"1265371201\"\n",
    "def re2(gimme):\n",
    "    res2=\"https://graph.facebook.com/v2.6/\"+gimme+\"/reactions?limit=600&__paging_token=enc_AdAXF9uurmVoZAXBLO2BIn3Ez0sc1wUeMiv5RIKFpwaZA6fVYJdP8sntFKBMfa0hepR1yBDtZB4ahrlm6I7b0p9qGJE&access_token=\"+access_token\n",
    "    return requests.get(res2)\n",
    "\n",
    "\n",
    "    \n",
    "feed_url = \"https://graph.facebook.com/v2.5/10152460834423273/feed?limit=25&__paging_token=enc_AdC0e5dvKoSQmXJylWG9ZCB2HOcqrn0h8aKiZAXhZAWwspwXXGbMQrctxddQsukemXMFmPC1MVhZCLW74QdPJf5Xeo7M&access_token=\"+access_token+\"&&until=\"+time_wanted\n",
    "cnttt = 0\n",
    "def do_this(feed_url,cnttt):\n",
    "    call_feed_url = requests.get(feed_url)\n",
    "    #Ensuring success\n",
    "\n",
    "    if call_feed_url.status_code == 200:\n",
    "        statuses = {}\n",
    "        counter = 0\n",
    "        for i in call_feed_url.json()['data']:\n",
    "            lis = []\n",
    "            lis.append(i['id'])\n",
    "            lis.append(i['created_time'])\n",
    "            if 'message' in i:\n",
    "                lis.append(i['message'])\n",
    "            elif 'story' in i:\n",
    "                lis.append(i['story'])\n",
    "            statuses[counter]=lis\n",
    "            counter = counter+1\n",
    "    li = []\n",
    "    for i in statuses.values():\n",
    "        li.append(i)\n",
    "\n",
    "#    for i in li:       \n",
    "        #print(i[0],\"|\",i[1],\"|\",i[2])\n",
    "    if call_feed_url.status_code == 200:\n",
    "        for i in li:\n",
    "            if \"10152460834423273\" in i[0]:\n",
    "                likesval = re2(i[0])\n",
    "                resp_parse = likesval.json()\n",
    "                x=np.array(resp_parse)\n",
    "                likes = len(x.all()[\"data\"])\n",
    "                #print(likes,i[1])\n",
    "                with open('./test2.csv','a',newline='', encoding=\"utf-8\") as csvfile:\n",
    "                    spamwriter = csv.writer(csvfile,delimiter=' ',quotechar='|',quoting=csv.QUOTE_MINIMAL)\n",
    "                    spamwriter.writerow(str(likes)+\",\"+(i[1]))\n",
    "        \n",
    "        if cnttt <12:\n",
    "            cnttt = cnttt +1\n",
    "            do_this(call_feed_url.json()[\"paging\"][\"next\"],cnttt)\n",
    "        \n",
    "cnttt = 0\n",
    "do_this(feed_url,cnttt)"
   ]
  },
  {
   "cell_type": "code",
   "execution_count": 69,
   "metadata": {
    "collapsed": true
   },
   "outputs": [],
   "source": [
    "li=[]\n",
    "for i in reactions.values():\n",
    "    li.append(i)"
   ]
  },
  {
   "cell_type": "code",
   "execution_count": 70,
   "metadata": {},
   "outputs": [
    {
     "data": {
      "text/plain": [
       "['HAHA', 'LIKE', 'HAHA', 'LIKE', 'HAHA', 'LIKE', 'LIKE', 'SAD', 'HAHA', 'LIKE']"
      ]
     },
     "execution_count": 70,
     "metadata": {},
     "output_type": "execute_result"
    }
   ],
   "source": [
    "li[:10]"
   ]
  },
  {
   "cell_type": "code",
   "execution_count": 74,
   "metadata": {},
   "outputs": [
    {
     "name": "stderr",
     "output_type": "stream",
     "text": [
      "UsageError: %%python3 is a cell magic, but the cell body is empty.\n"
     ]
    }
   ],
   "source": [
    "%%python3 facebook_reactions.py"
   ]
  },
  {
   "cell_type": "code",
   "execution_count": 76,
   "metadata": {
    "collapsed": true
   },
   "outputs": [],
   "source": [
    "feed_url = \"https://graph.facebook.com/v2.5/10152460834423273/feed?limit=100&__paging_token=enc_AdC0e5dvKoSQmXJylWG9ZCB2HOcqrn0h8aKiZAXhZAWwspwXXGbMQrctxddQsukemXMFmPC1MVhZCLW74QdPJf5Xeo7M&since=1510280679&access_token=EAACdEose0cBACyiuxUe4SdZBwW6ZAbbKQOU6j12PCIZBf4LcGf15VZBmBzY7kUtYXGdj8PSa8CP44G49ZCoS0E5fqURfB0hZCwKwAS1ZBZBjeIhYssiOOpOT8uDJAe2XHMUl0IwoDD5xl1ZBEkAUW0xNIcUCC2mmZAyl1obonSKAZCl2wqFiKf97qhlFIZCBmqhyAsZD\"\n"
   ]
  },
  {
   "cell_type": "code",
   "execution_count": 77,
   "metadata": {
    "collapsed": true
   },
   "outputs": [],
   "source": [
    "call_feed_url = requests.get(feed_url)\n"
   ]
  },
  {
   "cell_type": "code",
   "execution_count": 83,
   "metadata": {},
   "outputs": [
    {
     "name": "stdout",
     "output_type": "stream",
     "text": [
      "Confirmation bias aside, this is a really nice article to read :) \n",
      "\n",
      "#tldr? #WorkHard #StayHappy\n",
      "Saw a girl on the Metro wearing  sneakers similar to mine.\n",
      "\n",
      "Hey sole sister!😌\n",
      "You can't completely be from Spain. You can only be Span-ish.\n",
      "Saw a surly kid looking out the window of his dad's car growing increasingly impatient in the backseat as they inched through traffic on MG Road.\n",
      "Wouldn't be surprised if he went home and started writing a book titled \"Kid's Kampf\".\n",
      "\"Garb\" is clothing. But \"Garbage\" is trash 🤔 I guess everything goes bad over time\n",
      "I see people traveling far and wide and I'm wondering.. Kaise yaar o.o I get tired just by looking at places on Google Maps :-/\n",
      "\n",
      "#wonderlust\n",
      "What do monks use when they get a back ache?\n",
      "\n",
      "Zendu Balm 🤔😌\n",
      "\n",
      "#LateNightThoughts\n",
      "For research purposes\n",
      "Dat dopamine tho.\n",
      "You Know Puliyogare/ Puliyodharai was way ahead of its time coz there's a \"Yo\" in the name. 🤘😌\n",
      "Who called it consumer study and not buyology?\n",
      "When your doodle is shitty but you are delusional enough to believe that you can still be plagiarized so you sign it anyway 😌 #doodles #abhicantdraw #stickfigure #hinglish\n",
      "Damn.. Picasso level stuff right here.\n",
      "I refuse to believe that farmers don't buy chicken and hum \"koli mil gaya\".\n",
      "My Punjabi friend wasn't pleased when I asked her if she planned to be an Interior Dekaurator.\n",
      "2 years of sadness\n",
      "Plot twist : French painter Monet's father was actually a Mallu and was too lazy to really name his son.\n",
      "Kaafi good presentation. And good kaapi olso.\n",
      "Udhar : Tron\n",
      "Idhar : Mitron\n",
      "#anjuscafe The new one. Looks like it'll be a great place to sit and read in the evening 😁😊\n",
      "What are the chances that people who lose weight will regain it soon enough?\n",
      "Re-mote\n",
      "Found that my usual shortcut home has been blocked by the construction of a new temple -_- Guess it's true then 😕\n",
      "Where there's a kowill, there's no way.\n",
      "\"It was the best of times, it was the worst of times.\n",
      "Ghar me sab thae, but there was no milk, so chaai nhi bani.\"\n",
      "-Charles Dickens\n",
      "\n",
      "#trueStory #ATaleOfTwoSthithis\n",
      "#peerpressure #staystrong #tipsforkids #doodlesofinstagram #doodles #puns\n",
      "Who called her Mayawati and not UPmaa\n"
     ]
    }
   ],
   "source": [
    "for i in call_feed_url.json()['data']:\n",
    "    if 'message' in i:\n",
    "        print(i['message'])\n",
    "\n",
    "li=[]\n",
    "for i in reactions.values():\n",
    "    li.append(i)"
   ]
  },
  {
   "cell_type": "code",
   "execution_count": 101,
   "metadata": {
    "collapsed": true
   },
   "outputs": [],
   "source": [
    "re1 = \"https://graph.facebook.com/v2.5/10152460834423273/feed?limit=25&__paging_token=enc_AdAXF9uurmVoZAXBLO2BIn3Ez0sc1wUeMiv5RIKFpwaZA6fVYJdP8sntFKBMfa0hepR1yBDtZB4ahrlm6I7b0p9qGJE&access_token=EAACEdEose0cBADamPVA31qDpt8h4aHFwCMLnZBi1BootdvmP54SqkPE5GZARzpIMWUIHXzEEznZBBS8zsf32ZCzN0UBW5MNs2AYZBp3ZAHb3jfGQy1I1lW4783JJuY6LtlZAZBpiNge1bXAFJZArtxbsLj3NiIGVtNS02yg3QfcqvrwZASeN0aTx5ZAHGeocpMvxkZD&until=1501315029\""
   ]
  },
  {
   "cell_type": "code",
   "execution_count": 102,
   "metadata": {
    "collapsed": true
   },
   "outputs": [],
   "source": [
    "req_res = requests.get(re1)"
   ]
  },
  {
   "cell_type": "code",
   "execution_count": 80,
   "metadata": {
    "collapsed": true
   },
   "outputs": [],
   "source": [
    "def re2(gimme,hi):\n",
    "    res2=\"https://graph.facebook.com/v2.6/\"+gimme+\"/reactions?limit=600&__paging_token=enc_AdAXF9uurmVoZAXBLO2BIn3Ez0sc1wUeMiv5RIKFpwaZA6fVYJdP8sntFKBMfa0hepR1yBDtZB4ahrlm6I7b0p9qGJE&access_token=EAACEdEose0cBAKhfhhYTYesb1gPTLE55cZCRZBZBzPkI4Nsdowq6R8tCZBlBMRcuzksFOH1JYEYOlgsZCasO97EZA6q8oZAoxO96kToTtql5KiP5reFHn0YPJnimxFmvhMbIrZCYSWBuKZB7MqSOrIf3ARnMiDNRIfMtSsv43zwhhBi4KngT2ZBWFL82RZC74ZArbIZD\"\n",
    "    return requests.get(hi)\n",
    "    #return requests.get(res2)\n"
   ]
  },
  {
   "cell_type": "code",
   "execution_count": 40,
   "metadata": {},
   "outputs": [
    {
     "name": "stdout",
     "output_type": "stream",
     "text": [
      "Nothing\n"
     ]
    }
   ],
   "source": [
    "print(\"Nothing\")"
   ]
  },
  {
   "cell_type": "code",
   "execution_count": 72,
   "metadata": {
    "collapsed": true
   },
   "outputs": [],
   "source": [
    "vals = re2(\"10152460834423273_10156391749928273\")"
   ]
  },
  {
   "cell_type": "code",
   "execution_count": 66,
   "metadata": {},
   "outputs": [
    {
     "data": {
      "text/plain": [
       "{'data': [{'id': '10154082385754003', 'name': 'Deepesh Rawat', 'type': 'HAHA'},\n",
       "  {'id': '1161236553893081', 'name': 'Vasuda Sabesan', 'type': 'LIKE'},\n",
       "  {'id': '10152739599554179', 'name': 'Vikram Singh', 'type': 'LIKE'},\n",
       "  {'id': '10204105041447883', 'name': 'Revathi M Kulkarni', 'type': 'LOVE'},\n",
       "  {'id': '1487330088147512', 'name': 'Rohan Phadke', 'type': 'LIKE'},\n",
       "  {'id': '668905966531726',\n",
       "   'name': 'Nikhil Sreenivasa Murthy',\n",
       "   'type': 'LIKE'},\n",
       "  {'id': '831600106857644', 'name': 'Kashyap Yv', 'type': 'WOW'},\n",
       "  {'id': '831916683498378', 'name': 'Raghuram Subramanian', 'type': 'LIKE'},\n",
       "  {'id': '10202973087961599', 'name': 'Suyash Shrivastava', 'type': 'LIKE'},\n",
       "  {'id': '10154552415210158', 'name': 'ಮಿಲಿಂದ್ ರವೀಂದ್ರನಾಥ್', 'type': 'LIKE'},\n",
       "  {'id': '747390728614415', 'name': 'Kamal Karan Matham', 'type': 'WOW'},\n",
       "  {'id': '10152700865845934', 'name': 'Archana Rajagopal', 'type': 'HAHA'},\n",
       "  {'id': '10201626712261249', 'name': 'Ravi Mavani', 'type': 'LIKE'},\n",
       "  {'id': '514386252034081', 'name': 'Pranesh Raghavendran', 'type': 'HAHA'},\n",
       "  {'id': '10203721053241132', 'name': 'Shiromi Bose', 'type': 'LIKE'},\n",
       "  {'id': '641152325959340', 'name': 'Jeevan Kumar Narayan', 'type': 'HAHA'},\n",
       "  {'id': '10152655099780559',\n",
       "   'name': 'Nayanika Chattopadhyay',\n",
       "   'type': 'HAHA'},\n",
       "  {'id': '825791794136673', 'name': 'Manas J Saloi', 'type': 'LIKE'},\n",
       "  {'id': '10204606143619020', 'name': 'Farozan Akhtar', 'type': 'HAHA'},\n",
       "  {'id': '10201704176481014', 'name': 'Shewali Tiwari', 'type': 'LIKE'},\n",
       "  {'id': '857194327641762', 'name': 'Suren Tiwari', 'type': 'LIKE'},\n",
       "  {'id': '597073077075911', 'name': 'Sindhu Shandilya', 'type': 'HAHA'},\n",
       "  {'id': '1964192990263530', 'name': 'Pramod Bhat', 'type': 'LIKE'},\n",
       "  {'id': '711857622194340', 'name': 'Amrutha Ramanathan', 'type': 'LIKE'},\n",
       "  {'id': '10152640536200306', 'name': 'Rituparna Sengupta', 'type': 'LIKE'}],\n",
       " 'paging': {'cursors': {'after': 'TmpRek1qZAzFNekExT2pFMU1UQTVOekUzT1RnNk1qVTBNRGsyTVRZAeE13PT0ZD',\n",
       "   'before': 'TmpBeE5qUTVNREF5T2pFMU1URXdPVGs0TlRjNk56ZAzROalE0TURNM09URXpNekV5'},\n",
       "  'next': 'https://graph.facebook.com/v2.6/10152460834423273_10156391749928273/reactions?access_token=EAACEdEose0cBAKh5fhhYTYesb1gPTLE55cZCRZBZBzPkI4Nsdowq6R8tCZBlBMRcuzksFOH1JYEYOlgsZCasO97EZA6q8oZAoxO96kToTtql5KiP5reFHn0YPJnimxFmvhMbIrZCYSWBuKZB7MqSOrIf3ARnMiDNRIfMtSsv43zwhhBi4KngT2ZBWFL82RZC74ZArbIZD&limit=25&after=TmpRek1qZAzFNekExT2pFMU1UQTVOekUzT1RnNk1qVTBNRGsyTVRZAeE3PT0ZD'}}"
      ]
     },
     "execution_count": 66,
     "metadata": {},
     "output_type": "execute_result"
    }
   ],
   "source": [
    "vals.json()"
   ]
  },
  {
   "cell_type": "code",
   "execution_count": 73,
   "metadata": {
    "collapsed": true
   },
   "outputs": [],
   "source": [
    "resp_parse = vals.json()"
   ]
  },
  {
   "cell_type": "code",
   "execution_count": 56,
   "metadata": {},
   "outputs": [
    {
     "data": {
      "text/plain": [
       "[{'id': '81226194265878', 'name': 'Sandeep Ojha', 'type': 'LIKE'},\n",
       " {'id': '1020392568803194', 'name': 'Karthik Malli', 'type': 'HAHA'},\n",
       " {'id': '1020136528463537', 'name': 'Sameer Mohan', 'type': 'HAHA'},\n",
       " {'id': '1015271659139804', 'name': 'Karthik Kurpad', 'type': 'HAHA'},\n",
       " {'id': '128163006', 'name': 'Vinay Shenoy', 'type': 'HAHA'},\n",
       " {'id': '105240836', 'name': 'Umesh Rao', 'type': 'HAHA'},\n",
       " {'id': '75171691537657', 'name': 'Mark Vailshery', 'type': 'LIKE'}]"
      ]
     },
     "execution_count": 56,
     "metadata": {},
     "output_type": "execute_result"
    }
   ],
   "source": [
    "(resp_parse['data'])"
   ]
  },
  {
   "cell_type": "raw",
   "metadata": {},
   "source": [
    "for i in resp_parse:\n",
    "     print i"
   ]
  },
  {
   "cell_type": "code",
   "execution_count": 13,
   "metadata": {},
   "outputs": [
    {
     "data": {
      "text/plain": [
       "{'data': [{'id': '99283224081547', 'name': 'Shashikiran Nanjappa'},\n",
       "  {'id': '75177169153767', 'name': 'Mark Vailshery'},\n",
       "  {'id': '1015606507770574', 'name': 'Ruheed Mohamed'},\n",
       "  {'id': '1015336199302586', 'name': 'Shriram Anbalagan'},\n",
       "  {'id': '1020476955186399', 'name': 'Yasha YC'},\n",
       "  {'id': '10228889340452', 'name': 'Tamanna MN'}],\n",
       " 'paging': {'cursors': {'after': 'MTAyMjg4ODkzNDQwNDUy',\n",
       "   'before': 'OTkyODMyMTI0MDgxNTQ3'}}}"
      ]
     },
     "execution_count": 13,
     "metadata": {},
     "output_type": "execute_result"
    }
   ],
   "source": [
    "resp_parse"
   ]
  },
  {
   "cell_type": "code",
   "execution_count": 15,
   "metadata": {},
   "outputs": [
    {
     "data": {
      "text/plain": [
       "<function print>"
      ]
     },
     "execution_count": 15,
     "metadata": {},
     "output_type": "execute_result"
    }
   ],
   "source": [
    "print"
   ]
  },
  {
   "cell_type": "code",
   "execution_count": 17,
   "metadata": {},
   "outputs": [
    {
     "data": {
      "text/plain": [
       "<function print>"
      ]
     },
     "execution_count": 17,
     "metadata": {},
     "output_type": "execute_result"
    }
   ],
   "source": [
    "print\n"
   ]
  },
  {
   "cell_type": "code",
   "execution_count": 22,
   "metadata": {
    "collapsed": true
   },
   "outputs": [],
   "source": [
    "import pandas as pd\n"
   ]
  },
  {
   "cell_type": "code",
   "execution_count": 19,
   "metadata": {
    "collapsed": true
   },
   "outputs": [],
   "source": [
    "import numpy as np\n"
   ]
  },
  {
   "cell_type": "code",
   "execution_count": 74,
   "metadata": {
    "collapsed": true
   },
   "outputs": [],
   "source": [
    "x=np.array(resp_parse)"
   ]
  },
  {
   "cell_type": "code",
   "execution_count": 70,
   "metadata": {},
   "outputs": [
    {
     "data": {
      "text/plain": [
       "array({'paging': {'next': 'https://graph.facebook.com/v2.6/10152460834423273_10156391749928273/reactions?access_token=EAACEdEose0cBAKh5fhhYTYesb1gPTLE55cZCRZBZBzPkI4Nsdowq6R8tCZBlBMRcuzksFOH1JYEYOlgsZCasO97EZA6q8oZAoxO96kToTtql5KiP5reFHn0YPJnimxFmvhMbIrZCYSWBuKZB7MqSOrIf3ARnMiDNRIfMtSsv43zwhhBi4KngT2ZBWFL82RZC74ZArbIZD&limit=25&after=TmpRek1qZAzFNekExT2pFMU1UQTVOekUzT1RnNk1qVTBNRGsyTVRZAeE13PT0ZD', 'cursors': {'after': 'TmpRek1qZAzFNekExT2pFMU1UQTVOekUzT1RnNk1qVTBNRGsyTVRZAeE13PT0ZD', 'before': 'TmpBeE5qUTVNREF5T2pFMU1URXdPVGs0TlRjNk56ZAzROalE0TURNM09URXpNekV5'}}, 'data': [{'type': 'HAHA', 'id': '10154082385754003', 'name': 'Deepesh Rawat'}, {'type': 'LIKE', 'id': '1161236553893081', 'name': 'Vasuda Sabesan'}, {'type': 'LIKE', 'id': '10152739599554179', 'name': 'Vikram Singh'}, {'type': 'LOVE', 'id': '10204105041447883', 'name': 'Revathi M Kulkarni'}, {'type': 'LIKE', 'id': '1487330088147512', 'name': 'Rohan Phadke'}, {'type': 'LIKE', 'id': '668905966531726', 'name': 'Nikhil Sreenivasa Murthy'}, {'type': 'WOW', 'id': '831600106857644', 'name': 'Kashyap Yv'}, {'type': 'LIKE', 'id': '831916683498378', 'name': 'Raghuram Subramanian'}, {'type': 'LIKE', 'id': '10202973087961599', 'name': 'Suyash Shrivastava'}, {'type': 'LIKE', 'id': '10154552415210158', 'name': 'ಮಿಲಿಂದ್ ರವೀಂದ್ರನಾಥ್'}, {'type': 'WOW', 'id': '747390728614415', 'name': 'Kamal Karan Matham'}, {'type': 'HAHA', 'id': '10152700865845934', 'name': 'Archana Rajagopal'}, {'type': 'LIKE', 'id': '10201626712261249', 'name': 'Ravi Mavani'}, {'type': 'HAHA', 'id': '514386252034081', 'name': 'Pranesh Raghavendran'}, {'type': 'LIKE', 'id': '10203721053241132', 'name': 'Shiromi Bose'}, {'type': 'HAHA', 'id': '641152325959340', 'name': 'Jeevan Kumar Narayan'}, {'type': 'HAHA', 'id': '10152655099780559', 'name': 'Nayanika Chattopadhyay'}, {'type': 'LIKE', 'id': '825791794136673', 'name': 'Manas J Saloi'}, {'type': 'HAHA', 'id': '10204606143619020', 'name': 'Farozan Akhtar'}, {'type': 'LIKE', 'id': '10201704176481014', 'name': 'Shewali Tiwari'}, {'type': 'LIKE', 'id': '857194327641762', 'name': 'Suren Tiwari'}, {'type': 'HAHA', 'id': '597073077075911', 'name': 'Sindhu Shandilya'}, {'type': 'LIKE', 'id': '1964192990263530', 'name': 'Pramod Bhat'}, {'type': 'LIKE', 'id': '711857622194340', 'name': 'Amrutha Ramanathan'}, {'type': 'LIKE', 'id': '10152640536200306', 'name': 'Rituparna Sengupta'}]}, dtype=object)"
      ]
     },
     "execution_count": 70,
     "metadata": {},
     "output_type": "execute_result"
    }
   ],
   "source": [
    "x"
   ]
  },
  {
   "cell_type": "code",
   "execution_count": 35,
   "metadata": {},
   "outputs": [
    {
     "data": {
      "text/plain": [
       "array({'paging': {'cursors': {'after': 'MTAyMjg4ODkzNDQwNDUy', 'before': 'OTkyODMyMTI0MDgxNTQ3'}}, 'data': [{'id': '992832124081547', 'name': 'Shashikiran Nanjappa'}, {'id': '751771691537657', 'name': 'Mark Vailshery'}, {'id': '10156065077780574', 'name': 'Ruheed Mohamed'}, {'id': '10153361993102586', 'name': 'Shriram Anbalagan'}, {'id': '10204769550186399', 'name': 'Yasha YC'}, {'id': '102288893440452', 'name': 'Tamanna MN'}]}, dtype=object)"
      ]
     },
     "execution_count": 35,
     "metadata": {},
     "output_type": "execute_result"
    }
   ],
   "source": [
    "x"
   ]
  },
  {
   "cell_type": "code",
   "execution_count": 36,
   "metadata": {},
   "outputs": [
    {
     "data": {
      "text/plain": [
       "<function ndarray.all>"
      ]
     },
     "execution_count": 36,
     "metadata": {},
     "output_type": "execute_result"
    }
   ],
   "source": [
    "x.all"
   ]
  },
  {
   "cell_type": "code",
   "execution_count": 75,
   "metadata": {},
   "outputs": [
    {
     "data": {
      "text/plain": [
       "49"
      ]
     },
     "execution_count": 75,
     "metadata": {},
     "output_type": "execute_result"
    }
   ],
   "source": [
    "len(x.all()[\"data\"])"
   ]
  },
  {
   "cell_type": "code",
   "execution_count": 79,
   "metadata": {
    "collapsed": true
   },
   "outputs": [],
   "source": [
    "hi = \"https://graph.facebook.com/v2.5/10152460834423273/feed?limit=10&__paging_token=enc_AdC0e5dvKoSQmXJylWG9ZCB2HOcqrn0h8aKiZAXhZAWwspwXXGbMQrctxddQsukemXMFmPC1MVhZCLW74QdPJf5Xeo7M&access_token=EAACEdEose0cBAKh5fhhYTYesb1gPTLE55cZCRZBZBzPkI4Nsdowq6R8tCZBlBMRcuzksFOH1JYEYOlgsZCasO97EZA6q8oZAoxO96kToTtql5KiP5reFHn0YPJnimxFmvhMbIrZCYSWBuKZB7MqSOrIf3ARnMiDNRIfMtSsv43zwhhBi4KngT2ZBWFL82RZC74ZArbIZD\""
   ]
  },
  {
   "cell_type": "code",
   "execution_count": 81,
   "metadata": {
    "collapsed": true
   },
   "outputs": [],
   "source": [
    "vals2 = re2(\"10152460834423273_10156391749928273\",hi)"
   ]
  },
  {
   "cell_type": "code",
   "execution_count": 82,
   "metadata": {
    "collapsed": true
   },
   "outputs": [],
   "source": [
    "resp_parse2 = vals2.json()"
   ]
  },
  {
   "cell_type": "code",
   "execution_count": 84,
   "metadata": {},
   "outputs": [
    {
     "data": {
      "text/plain": [
       "'https://graph.facebook.com/v2.5/10152460834423273/feed?limit=10&__paging_token=enc_AdBtNPFOZAGibLeUR1QBtoWM1q2qbRBW7kcLhTWVr4lMrqdOwEm92ZAMTlZCtWMQvvWl7UP1hBJRHamDbXzA7J9jYEF&access_token=EAACEdEose0cBAKh5fhhYTYesb1gPTLE55cZCRZBZBzPkI4Nsdowq6R8tCZBlBMRcuzksFOH1JYEYOlgsZCasO97EZA6q8oZAoxO96kToTtql5KiP5reFHn0YPJnimxFmvhMbIrZCYSWBuKZB7MqSOrIf3ARnMiDNRIfMtSsv43zwhhBi4KngT2ZBWFL82RZC74ZArbIZD&until=1510862022'"
      ]
     },
     "execution_count": 84,
     "metadata": {},
     "output_type": "execute_result"
    }
   ],
   "source": [
    "resp_parse2[\"paging\"][\"next\"]"
   ]
  },
  {
   "cell_type": "code",
   "execution_count": 5,
   "metadata": {},
   "outputs": [
    {
     "name": "stderr",
     "output_type": "stream",
     "text": [
      "UsageError: %%python3 is a cell magic, but the cell body is empty.\n"
     ]
    }
   ],
   "source": [
    "%%python3 facebook_reactions.py"
   ]
  },
  {
   "cell_type": "code",
   "execution_count": 8,
   "metadata": {
    "collapsed": true
   },
   "outputs": [],
   "source": [
    "import csv"
   ]
  },
  {
   "cell_type": "code",
   "execution_count": 17,
   "metadata": {
    "collapsed": true
   },
   "outputs": [],
   "source": [
    "with open('./test.csv','w',newline='') as csvfile:\n",
    "    spamwriter = csv.writer(csvfile,delimiter=' ',quotechar='|',quoting=csv.QUOTE_MINIMAL)\n",
    "    spamwriter.writerow(\"Hello,1\")\n",
    "    spamwriter.writerow(\"Hello,2\")"
   ]
  },
  {
   "cell_type": "code",
   "execution_count": 18,
   "metadata": {
    "collapsed": true
   },
   "outputs": [],
   "source": [
    "import os\n",
    "cwd = os.getcwd()"
   ]
  },
  {
   "cell_type": "code",
   "execution_count": 12,
   "metadata": {},
   "outputs": [
    {
     "data": {
      "text/plain": [
       "'C:\\\\Users\\\\aramesh\\\\Desktop\\\\Facebook_Analysis_19_11_2017\\\\Facebook_Analysis_19_11_2017'"
      ]
     },
     "execution_count": 12,
     "metadata": {},
     "output_type": "execute_result"
    }
   ],
   "source": [
    "cwd"
   ]
  },
  {
   "cell_type": "code",
   "execution_count": 19,
   "metadata": {
    "collapsed": true
   },
   "outputs": [],
   "source": [
    "with open('./test.csv','w',newline='') as csvfile:\n",
    "    spamwriter = csv.writer(csvfile,delimiter=' ',quotechar='|',quoting=csv.QUOTE_MINIMAL)\n",
    "    spamwriter.writerow(\"Hello,1\")"
   ]
  },
  {
   "cell_type": "code",
   "execution_count": 27,
   "metadata": {
    "collapsed": true
   },
   "outputs": [],
   "source": [
    "with open('./test.csv','a',newline='') as csvfile:\n",
    "    spamwriter = csv.writer(csvfile,delimiter=' ',quotechar='|',quoting=csv.QUOTE_MINIMAL)\n",
    "    spamwriter.writerow(\"New,2\")"
   ]
  },
  {
   "cell_type": "code",
   "execution_count": 61,
   "metadata": {
    "collapsed": true
   },
   "outputs": [],
   "source": [
    "import matplotlib.pyplot as plt"
   ]
  },
  {
   "cell_type": "code",
   "execution_count": 96,
   "metadata": {},
   "outputs": [
    {
     "data": {
      "text/plain": [
       "[<matplotlib.lines.Line2D at 0xc09e50>]"
      ]
     },
     "execution_count": 96,
     "metadata": {},
     "output_type": "execute_result"
    }
   ],
   "source": [
    "plt.plot([1,2,3,4,5,6,7,8,9,10,11],[1,1,2,3,5,8,13,21,34,55,89],'go',linestyle=\"solid\")"
   ]
  },
  {
   "cell_type": "code",
   "execution_count": 97,
   "metadata": {},
   "outputs": [
    {
     "data": {
      "text/plain": [
       "<matplotlib.text.Text at 0xbeb5d0>"
      ]
     },
     "execution_count": 97,
     "metadata": {},
     "output_type": "execute_result"
    }
   ],
   "source": [
    "plt.ylabel('Fibonacci Sequence')"
   ]
  },
  {
   "cell_type": "code",
   "execution_count": 98,
   "metadata": {},
   "outputs": [
    {
     "data": {
      "image/png": "[encoded data removed]",
      "text/plain": [
       "<matplotlib.figure.Figure at 0xbccbb0>"
      ]
     },
     "metadata": {},
     "output_type": "display_data"
    }
   ],
   "source": [
    "plt.show()"
   ]
  },
  {
   "cell_type": "code",
   "execution_count": 99,
   "metadata": {},
   "outputs": [
    {
     "data": {
      "text/plain": [
       "0"
      ]
     },
     "execution_count": 99,
     "metadata": {},
     "output_type": "execute_result"
    }
   ],
   "source": [
    "os.system('pwd')"
   ]
  },
  {
   "cell_type": "code",
   "execution_count": 104,
   "metadata": {
    "collapsed": true
   },
   "outputs": [],
   "source": [
    "import os\n",
    "cwd = os.listdir()"
   ]
  },
  {
   "cell_type": "code",
   "execution_count": 105,
   "metadata": {},
   "outputs": [
    {
     "data": {
      "text/plain": [
       "['.DS_Store',\n",
       " '.ipynb_checkpoints',\n",
       " 'bin',\n",
       " 'facebook_reactions.py',\n",
       " 'final_set_likes_date.csv',\n",
       " 'include',\n",
       " 'lib',\n",
       " 'Reactions1.ipynb',\n",
       " 'test.csv',\n",
       " 'test2 - Copy (10).csv',\n",
       " 'test2 - Copy (11).csv',\n",
       " 'test2 - Copy (12).csv',\n",
       " 'test2 - Copy (13).csv',\n",
       " 'test2 - Copy (14).csv',\n",
       " 'test2 - Copy (15).csv',\n",
       " 'test2 - Copy (16).csv',\n",
       " 'test2 - Copy (2).csv',\n",
       " 'test2 - Copy (3).csv',\n",
       " 'test2 - Copy (4).csv',\n",
       " 'test2 - Copy (5).csv',\n",
       " 'test2 - Copy (6).csv',\n",
       " 'test2 - Copy (7).csv',\n",
       " 'test2 - Copy (8).csv',\n",
       " 'test2 - Copy (9).csv',\n",
       " 'test2 - Copy.csv',\n",
       " 'test2 - Copy3.csv',\n",
       " 'test2.csv',\n",
       " 'untitled folder',\n",
       " 'untitled folder.zip',\n",
       " 'Untitled.ipynb',\n",
       " 'Untitled1.ipynb']"
      ]
     },
     "execution_count": 105,
     "metadata": {},
     "output_type": "execute_result"
    }
   ],
   "source": [
    "cwd"
   ]
  },
  {
   "cell_type": "code",
   "execution_count": 120,
   "metadata": {},
   "outputs": [
    {
     "data": {
      "text/plain": [
       "[<matplotlib.lines.Line2D at 0x8f090d0>]"
      ]
     },
     "execution_count": 120,
     "metadata": {},
     "output_type": "execute_result"
    }
   ],
   "source": [
    "likes_list = []\n",
    "dates_list=[]\n",
    "with open('./final_set_likes_date.csv','r',newline='') as csvfile2:\n",
    "    spamwriter = csv.reader(csvfile2,delimiter=',')\n",
    "    for i in spamwriter:\n",
    "        likes_list.append(i[0])\n",
    "        dates_list.append(i[1])\n",
    "\n",
    "plt.plot(likes_list,'go',linestyle=\"solid\")"
   ]
  },
  {
   "cell_type": "code",
   "execution_count": 121,
   "metadata": {},
   "outputs": [
    {
     "data": {
      "image/png": "[encoded data removed]",
      "text/plain": [
       "<matplotlib.figure.Figure at 0xcba030>"
      ]
     },
     "metadata": {},
     "output_type": "display_data"
    }
   ],
   "source": [
    "plt.show()"
   ]
  },
  {
   "cell_type": "code",
   "execution_count": null,
   "metadata": {
    "collapsed": true
   },
   "outputs": [],
   "source": []
  }
 ],
 "metadata": {
  "anaconda-cloud": {},
  "kernelspec": {
   "display_name": "Python 3",
   "language": "python",
   "name": "python3"
  },
  "language_info": {
   "codemirror_mode": {
    "name": "ipython",
    "version": 3
   },
   "file_extension": ".py",
   "mimetype": "text/x-python",
   "name": "python",
   "nbconvert_exporter": "python",
   "pygments_lexer": "ipython3",
   "version": "3.6.1"
  }
 },
 "nbformat": 4,
 "nbformat_minor": 2
}
